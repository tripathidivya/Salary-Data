{
 "cells": [
  {
   "cell_type": "code",
   "execution_count": 1,
   "id": "baa608d2",
   "metadata": {
    "_cell_guid": "b1076dfc-b9ad-4769-8c92-a6c4dae69d19",
    "_uuid": "8f2839f25d086af736a60e9eeb907d3b93b6e0e5",
    "execution": {
     "iopub.execute_input": "2024-05-11T14:47:06.937358Z",
     "iopub.status.busy": "2024-05-11T14:47:06.936966Z",
     "iopub.status.idle": "2024-05-11T14:47:08.013615Z",
     "shell.execute_reply": "2024-05-11T14:47:08.012170Z"
    },
    "papermill": {
     "duration": 1.104204,
     "end_time": "2024-05-11T14:47:08.016281",
     "exception": false,
     "start_time": "2024-05-11T14:47:06.912077",
     "status": "completed"
    },
    "tags": []
   },
   "outputs": [
    {
     "name": "stdout",
     "output_type": "stream",
     "text": [
      "/kaggle/input/adult-income-dataset/adult.csv\n"
     ]
    }
   ],
   "source": [
    "# This Python 3 environment comes with many helpful analytics libraries installed\n",
    "# It is defined by the kaggle/python Docker image: https://github.com/kaggle/docker-python\n",
    "# For example, here's several helpful packages to load\n",
    "\n",
    "import numpy as np # linear algebra\n",
    "import pandas as pd # data processing, CSV file I/O (e.g. pd.read_csv)\n",
    "\n",
    "# Input data files are available in the read-only \"../input/\" directory\n",
    "# For example, running this (by clicking run or pressing Shift+Enter) will list all files under the input directory\n",
    "\n",
    "import os\n",
    "for dirname, _, filenames in os.walk('/kaggle/input'):\n",
    "    for filename in filenames:\n",
    "        print(os.path.join(dirname, filename))\n",
    "\n",
    "# You can write up to 20GB to the current directory (/kaggle/working/) that gets preserved as output when you create a version using \"Save & Run All\" \n",
    "# You can also write temporary files to /kaggle/temp/, but they won't be saved outside of the current session"
   ]
  },
  {
   "cell_type": "code",
   "execution_count": 2,
   "id": "8ffe5fa5",
   "metadata": {
    "execution": {
     "iopub.execute_input": "2024-05-11T14:47:08.065684Z",
     "iopub.status.busy": "2024-05-11T14:47:08.064764Z",
     "iopub.status.idle": "2024-05-11T14:47:09.687518Z",
     "shell.execute_reply": "2024-05-11T14:47:09.686012Z"
    },
    "papermill": {
     "duration": 1.652193,
     "end_time": "2024-05-11T14:47:09.690635",
     "exception": false,
     "start_time": "2024-05-11T14:47:08.038442",
     "status": "completed"
    },
    "tags": []
   },
   "outputs": [],
   "source": [
    "import pandas as pd\n",
    "import numpy as np\n",
    "import matplotlib.pyplot as plt\n",
    "import seaborn as sns"
   ]
  },
  {
   "cell_type": "code",
   "execution_count": 3,
   "id": "94befd9c",
   "metadata": {
    "execution": {
     "iopub.execute_input": "2024-05-11T14:47:09.739003Z",
     "iopub.status.busy": "2024-05-11T14:47:09.737674Z",
     "iopub.status.idle": "2024-05-11T14:47:10.013547Z",
     "shell.execute_reply": "2024-05-11T14:47:10.012252Z"
    },
    "papermill": {
     "duration": 0.302487,
     "end_time": "2024-05-11T14:47:10.016505",
     "exception": false,
     "start_time": "2024-05-11T14:47:09.714018",
     "status": "completed"
    },
    "tags": []
   },
   "outputs": [
    {
     "data": {
      "text/html": [
       "<div>\n",
       "<style scoped>\n",
       "    .dataframe tbody tr th:only-of-type {\n",
       "        vertical-align: middle;\n",
       "    }\n",
       "\n",
       "    .dataframe tbody tr th {\n",
       "        vertical-align: top;\n",
       "    }\n",
       "\n",
       "    .dataframe thead th {\n",
       "        text-align: right;\n",
       "    }\n",
       "</style>\n",
       "<table border=\"1\" class=\"dataframe\">\n",
       "  <thead>\n",
       "    <tr style=\"text-align: right;\">\n",
       "      <th></th>\n",
       "      <th>age</th>\n",
       "      <th>workclass</th>\n",
       "      <th>fnlwgt</th>\n",
       "      <th>education</th>\n",
       "      <th>educational-num</th>\n",
       "      <th>marital-status</th>\n",
       "      <th>occupation</th>\n",
       "      <th>relationship</th>\n",
       "      <th>race</th>\n",
       "      <th>gender</th>\n",
       "      <th>capital-gain</th>\n",
       "      <th>capital-loss</th>\n",
       "      <th>hours-per-week</th>\n",
       "      <th>native-country</th>\n",
       "      <th>income</th>\n",
       "    </tr>\n",
       "  </thead>\n",
       "  <tbody>\n",
       "    <tr>\n",
       "      <th>0</th>\n",
       "      <td>25</td>\n",
       "      <td>Private</td>\n",
       "      <td>226802</td>\n",
       "      <td>11th</td>\n",
       "      <td>7</td>\n",
       "      <td>Never-married</td>\n",
       "      <td>Machine-op-inspct</td>\n",
       "      <td>Own-child</td>\n",
       "      <td>Black</td>\n",
       "      <td>Male</td>\n",
       "      <td>0</td>\n",
       "      <td>0</td>\n",
       "      <td>40</td>\n",
       "      <td>United-States</td>\n",
       "      <td>&lt;=50K</td>\n",
       "    </tr>\n",
       "    <tr>\n",
       "      <th>1</th>\n",
       "      <td>38</td>\n",
       "      <td>Private</td>\n",
       "      <td>89814</td>\n",
       "      <td>HS-grad</td>\n",
       "      <td>9</td>\n",
       "      <td>Married-civ-spouse</td>\n",
       "      <td>Farming-fishing</td>\n",
       "      <td>Husband</td>\n",
       "      <td>White</td>\n",
       "      <td>Male</td>\n",
       "      <td>0</td>\n",
       "      <td>0</td>\n",
       "      <td>50</td>\n",
       "      <td>United-States</td>\n",
       "      <td>&lt;=50K</td>\n",
       "    </tr>\n",
       "    <tr>\n",
       "      <th>2</th>\n",
       "      <td>28</td>\n",
       "      <td>Local-gov</td>\n",
       "      <td>336951</td>\n",
       "      <td>Assoc-acdm</td>\n",
       "      <td>12</td>\n",
       "      <td>Married-civ-spouse</td>\n",
       "      <td>Protective-serv</td>\n",
       "      <td>Husband</td>\n",
       "      <td>White</td>\n",
       "      <td>Male</td>\n",
       "      <td>0</td>\n",
       "      <td>0</td>\n",
       "      <td>40</td>\n",
       "      <td>United-States</td>\n",
       "      <td>&gt;50K</td>\n",
       "    </tr>\n",
       "    <tr>\n",
       "      <th>3</th>\n",
       "      <td>44</td>\n",
       "      <td>Private</td>\n",
       "      <td>160323</td>\n",
       "      <td>Some-college</td>\n",
       "      <td>10</td>\n",
       "      <td>Married-civ-spouse</td>\n",
       "      <td>Machine-op-inspct</td>\n",
       "      <td>Husband</td>\n",
       "      <td>Black</td>\n",
       "      <td>Male</td>\n",
       "      <td>7688</td>\n",
       "      <td>0</td>\n",
       "      <td>40</td>\n",
       "      <td>United-States</td>\n",
       "      <td>&gt;50K</td>\n",
       "    </tr>\n",
       "    <tr>\n",
       "      <th>4</th>\n",
       "      <td>18</td>\n",
       "      <td>?</td>\n",
       "      <td>103497</td>\n",
       "      <td>Some-college</td>\n",
       "      <td>10</td>\n",
       "      <td>Never-married</td>\n",
       "      <td>?</td>\n",
       "      <td>Own-child</td>\n",
       "      <td>White</td>\n",
       "      <td>Female</td>\n",
       "      <td>0</td>\n",
       "      <td>0</td>\n",
       "      <td>30</td>\n",
       "      <td>United-States</td>\n",
       "      <td>&lt;=50K</td>\n",
       "    </tr>\n",
       "  </tbody>\n",
       "</table>\n",
       "</div>"
      ],
      "text/plain": [
       "   age  workclass  fnlwgt     education  educational-num      marital-status  \\\n",
       "0   25    Private  226802          11th                7       Never-married   \n",
       "1   38    Private   89814       HS-grad                9  Married-civ-spouse   \n",
       "2   28  Local-gov  336951    Assoc-acdm               12  Married-civ-spouse   \n",
       "3   44    Private  160323  Some-college               10  Married-civ-spouse   \n",
       "4   18          ?  103497  Some-college               10       Never-married   \n",
       "\n",
       "          occupation relationship   race  gender  capital-gain  capital-loss  \\\n",
       "0  Machine-op-inspct    Own-child  Black    Male             0             0   \n",
       "1    Farming-fishing      Husband  White    Male             0             0   \n",
       "2    Protective-serv      Husband  White    Male             0             0   \n",
       "3  Machine-op-inspct      Husband  Black    Male          7688             0   \n",
       "4                  ?    Own-child  White  Female             0             0   \n",
       "\n",
       "   hours-per-week native-country income  \n",
       "0              40  United-States  <=50K  \n",
       "1              50  United-States  <=50K  \n",
       "2              40  United-States   >50K  \n",
       "3              40  United-States   >50K  \n",
       "4              30  United-States  <=50K  "
      ]
     },
     "execution_count": 3,
     "metadata": {},
     "output_type": "execute_result"
    }
   ],
   "source": [
    "data = pd.read_csv(\"/kaggle/input/adult-income-dataset/adult.csv\")\n",
    "data.head()"
   ]
  },
  {
   "cell_type": "code",
   "execution_count": 4,
   "id": "bb742998",
   "metadata": {
    "execution": {
     "iopub.execute_input": "2024-05-11T14:47:10.065329Z",
     "iopub.status.busy": "2024-05-11T14:47:10.064947Z",
     "iopub.status.idle": "2024-05-11T14:47:10.110369Z",
     "shell.execute_reply": "2024-05-11T14:47:10.109126Z"
    },
    "papermill": {
     "duration": 0.073499,
     "end_time": "2024-05-11T14:47:10.113458",
     "exception": false,
     "start_time": "2024-05-11T14:47:10.039959",
     "status": "completed"
    },
    "tags": []
   },
   "outputs": [
    {
     "data": {
      "text/html": [
       "<div>\n",
       "<style scoped>\n",
       "    .dataframe tbody tr th:only-of-type {\n",
       "        vertical-align: middle;\n",
       "    }\n",
       "\n",
       "    .dataframe tbody tr th {\n",
       "        vertical-align: top;\n",
       "    }\n",
       "\n",
       "    .dataframe thead th {\n",
       "        text-align: right;\n",
       "    }\n",
       "</style>\n",
       "<table border=\"1\" class=\"dataframe\">\n",
       "  <thead>\n",
       "    <tr style=\"text-align: right;\">\n",
       "      <th></th>\n",
       "      <th>age</th>\n",
       "      <th>workclass</th>\n",
       "      <th>fnlwgt</th>\n",
       "      <th>education</th>\n",
       "      <th>educational-num</th>\n",
       "      <th>marital-status</th>\n",
       "      <th>occupation</th>\n",
       "      <th>relationship</th>\n",
       "      <th>race</th>\n",
       "      <th>gender</th>\n",
       "      <th>capital-gain</th>\n",
       "      <th>capital-loss</th>\n",
       "      <th>hours-per-week</th>\n",
       "      <th>native-country</th>\n",
       "      <th>income</th>\n",
       "    </tr>\n",
       "  </thead>\n",
       "  <tbody>\n",
       "    <tr>\n",
       "      <th>48782</th>\n",
       "      <td>71</td>\n",
       "      <td>Private</td>\n",
       "      <td>138145</td>\n",
       "      <td>9th</td>\n",
       "      <td>5</td>\n",
       "      <td>Married-civ-spouse</td>\n",
       "      <td>Other-service</td>\n",
       "      <td>Husband</td>\n",
       "      <td>White</td>\n",
       "      <td>Male</td>\n",
       "      <td>0</td>\n",
       "      <td>0</td>\n",
       "      <td>40</td>\n",
       "      <td>United-States</td>\n",
       "      <td>&lt;=50K</td>\n",
       "    </tr>\n",
       "    <tr>\n",
       "      <th>48783</th>\n",
       "      <td>35</td>\n",
       "      <td>Local-gov</td>\n",
       "      <td>79649</td>\n",
       "      <td>Bachelors</td>\n",
       "      <td>13</td>\n",
       "      <td>Married-civ-spouse</td>\n",
       "      <td>Prof-specialty</td>\n",
       "      <td>Husband</td>\n",
       "      <td>White</td>\n",
       "      <td>Male</td>\n",
       "      <td>0</td>\n",
       "      <td>0</td>\n",
       "      <td>50</td>\n",
       "      <td>United-States</td>\n",
       "      <td>&lt;=50K</td>\n",
       "    </tr>\n",
       "    <tr>\n",
       "      <th>48784</th>\n",
       "      <td>47</td>\n",
       "      <td>Private</td>\n",
       "      <td>312088</td>\n",
       "      <td>HS-grad</td>\n",
       "      <td>9</td>\n",
       "      <td>Married-civ-spouse</td>\n",
       "      <td>Craft-repair</td>\n",
       "      <td>Husband</td>\n",
       "      <td>White</td>\n",
       "      <td>Male</td>\n",
       "      <td>0</td>\n",
       "      <td>0</td>\n",
       "      <td>40</td>\n",
       "      <td>United-States</td>\n",
       "      <td>&lt;=50K</td>\n",
       "    </tr>\n",
       "    <tr>\n",
       "      <th>48785</th>\n",
       "      <td>50</td>\n",
       "      <td>Private</td>\n",
       "      <td>208630</td>\n",
       "      <td>Masters</td>\n",
       "      <td>14</td>\n",
       "      <td>Divorced</td>\n",
       "      <td>Sales</td>\n",
       "      <td>Not-in-family</td>\n",
       "      <td>White</td>\n",
       "      <td>Female</td>\n",
       "      <td>0</td>\n",
       "      <td>0</td>\n",
       "      <td>50</td>\n",
       "      <td>United-States</td>\n",
       "      <td>&gt;50K</td>\n",
       "    </tr>\n",
       "    <tr>\n",
       "      <th>48786</th>\n",
       "      <td>33</td>\n",
       "      <td>Private</td>\n",
       "      <td>182401</td>\n",
       "      <td>10th</td>\n",
       "      <td>6</td>\n",
       "      <td>Never-married</td>\n",
       "      <td>Adm-clerical</td>\n",
       "      <td>Not-in-family</td>\n",
       "      <td>Black</td>\n",
       "      <td>Male</td>\n",
       "      <td>0</td>\n",
       "      <td>0</td>\n",
       "      <td>40</td>\n",
       "      <td>United-States</td>\n",
       "      <td>&lt;=50K</td>\n",
       "    </tr>\n",
       "    <tr>\n",
       "      <th>48787</th>\n",
       "      <td>38</td>\n",
       "      <td>Private</td>\n",
       "      <td>32916</td>\n",
       "      <td>Assoc-voc</td>\n",
       "      <td>11</td>\n",
       "      <td>Married-civ-spouse</td>\n",
       "      <td>Craft-repair</td>\n",
       "      <td>Husband</td>\n",
       "      <td>White</td>\n",
       "      <td>Male</td>\n",
       "      <td>0</td>\n",
       "      <td>0</td>\n",
       "      <td>55</td>\n",
       "      <td>United-States</td>\n",
       "      <td>&gt;50K</td>\n",
       "    </tr>\n",
       "    <tr>\n",
       "      <th>48788</th>\n",
       "      <td>50</td>\n",
       "      <td>Private</td>\n",
       "      <td>302372</td>\n",
       "      <td>Bachelors</td>\n",
       "      <td>13</td>\n",
       "      <td>Married-civ-spouse</td>\n",
       "      <td>Prof-specialty</td>\n",
       "      <td>Husband</td>\n",
       "      <td>White</td>\n",
       "      <td>Male</td>\n",
       "      <td>0</td>\n",
       "      <td>0</td>\n",
       "      <td>40</td>\n",
       "      <td>United-States</td>\n",
       "      <td>&lt;=50K</td>\n",
       "    </tr>\n",
       "    <tr>\n",
       "      <th>48789</th>\n",
       "      <td>45</td>\n",
       "      <td>Private</td>\n",
       "      <td>155093</td>\n",
       "      <td>10th</td>\n",
       "      <td>6</td>\n",
       "      <td>Divorced</td>\n",
       "      <td>Other-service</td>\n",
       "      <td>Not-in-family</td>\n",
       "      <td>Black</td>\n",
       "      <td>Female</td>\n",
       "      <td>0</td>\n",
       "      <td>0</td>\n",
       "      <td>38</td>\n",
       "      <td>Dominican-Republic</td>\n",
       "      <td>&lt;=50K</td>\n",
       "    </tr>\n",
       "    <tr>\n",
       "      <th>48790</th>\n",
       "      <td>32</td>\n",
       "      <td>Private</td>\n",
       "      <td>192965</td>\n",
       "      <td>HS-grad</td>\n",
       "      <td>9</td>\n",
       "      <td>Separated</td>\n",
       "      <td>Sales</td>\n",
       "      <td>Not-in-family</td>\n",
       "      <td>White</td>\n",
       "      <td>Female</td>\n",
       "      <td>0</td>\n",
       "      <td>0</td>\n",
       "      <td>45</td>\n",
       "      <td>United-States</td>\n",
       "      <td>&lt;=50K</td>\n",
       "    </tr>\n",
       "    <tr>\n",
       "      <th>48791</th>\n",
       "      <td>39</td>\n",
       "      <td>Private</td>\n",
       "      <td>107302</td>\n",
       "      <td>HS-grad</td>\n",
       "      <td>9</td>\n",
       "      <td>Married-civ-spouse</td>\n",
       "      <td>Prof-specialty</td>\n",
       "      <td>Husband</td>\n",
       "      <td>White</td>\n",
       "      <td>Male</td>\n",
       "      <td>0</td>\n",
       "      <td>0</td>\n",
       "      <td>45</td>\n",
       "      <td>?</td>\n",
       "      <td>&gt;50K</td>\n",
       "    </tr>\n",
       "    <tr>\n",
       "      <th>48792</th>\n",
       "      <td>25</td>\n",
       "      <td>Local-gov</td>\n",
       "      <td>514716</td>\n",
       "      <td>Bachelors</td>\n",
       "      <td>13</td>\n",
       "      <td>Never-married</td>\n",
       "      <td>Adm-clerical</td>\n",
       "      <td>Own-child</td>\n",
       "      <td>Black</td>\n",
       "      <td>Female</td>\n",
       "      <td>0</td>\n",
       "      <td>0</td>\n",
       "      <td>40</td>\n",
       "      <td>United-States</td>\n",
       "      <td>&lt;=50K</td>\n",
       "    </tr>\n",
       "    <tr>\n",
       "      <th>48793</th>\n",
       "      <td>20</td>\n",
       "      <td>Private</td>\n",
       "      <td>270436</td>\n",
       "      <td>HS-grad</td>\n",
       "      <td>9</td>\n",
       "      <td>Never-married</td>\n",
       "      <td>Machine-op-inspct</td>\n",
       "      <td>Own-child</td>\n",
       "      <td>White</td>\n",
       "      <td>Male</td>\n",
       "      <td>0</td>\n",
       "      <td>0</td>\n",
       "      <td>40</td>\n",
       "      <td>United-States</td>\n",
       "      <td>&lt;=50K</td>\n",
       "    </tr>\n",
       "    <tr>\n",
       "      <th>48794</th>\n",
       "      <td>46</td>\n",
       "      <td>Private</td>\n",
       "      <td>42972</td>\n",
       "      <td>Masters</td>\n",
       "      <td>14</td>\n",
       "      <td>Married-civ-spouse</td>\n",
       "      <td>Prof-specialty</td>\n",
       "      <td>Wife</td>\n",
       "      <td>White</td>\n",
       "      <td>Female</td>\n",
       "      <td>0</td>\n",
       "      <td>0</td>\n",
       "      <td>22</td>\n",
       "      <td>United-States</td>\n",
       "      <td>&gt;50K</td>\n",
       "    </tr>\n",
       "    <tr>\n",
       "      <th>48795</th>\n",
       "      <td>40</td>\n",
       "      <td>Private</td>\n",
       "      <td>142657</td>\n",
       "      <td>Assoc-voc</td>\n",
       "      <td>11</td>\n",
       "      <td>Married-civ-spouse</td>\n",
       "      <td>Craft-repair</td>\n",
       "      <td>Husband</td>\n",
       "      <td>Black</td>\n",
       "      <td>Male</td>\n",
       "      <td>0</td>\n",
       "      <td>0</td>\n",
       "      <td>45</td>\n",
       "      <td>United-States</td>\n",
       "      <td>&lt;=50K</td>\n",
       "    </tr>\n",
       "    <tr>\n",
       "      <th>48796</th>\n",
       "      <td>66</td>\n",
       "      <td>Federal-gov</td>\n",
       "      <td>47358</td>\n",
       "      <td>10th</td>\n",
       "      <td>6</td>\n",
       "      <td>Married-civ-spouse</td>\n",
       "      <td>Craft-repair</td>\n",
       "      <td>Husband</td>\n",
       "      <td>White</td>\n",
       "      <td>Male</td>\n",
       "      <td>3471</td>\n",
       "      <td>0</td>\n",
       "      <td>40</td>\n",
       "      <td>United-States</td>\n",
       "      <td>&lt;=50K</td>\n",
       "    </tr>\n",
       "    <tr>\n",
       "      <th>48797</th>\n",
       "      <td>30</td>\n",
       "      <td>Private</td>\n",
       "      <td>176175</td>\n",
       "      <td>Assoc-voc</td>\n",
       "      <td>11</td>\n",
       "      <td>Divorced</td>\n",
       "      <td>Adm-clerical</td>\n",
       "      <td>Unmarried</td>\n",
       "      <td>White</td>\n",
       "      <td>Female</td>\n",
       "      <td>0</td>\n",
       "      <td>0</td>\n",
       "      <td>24</td>\n",
       "      <td>United-States</td>\n",
       "      <td>&lt;=50K</td>\n",
       "    </tr>\n",
       "    <tr>\n",
       "      <th>48798</th>\n",
       "      <td>36</td>\n",
       "      <td>Private</td>\n",
       "      <td>131459</td>\n",
       "      <td>7th-8th</td>\n",
       "      <td>4</td>\n",
       "      <td>Married-civ-spouse</td>\n",
       "      <td>Craft-repair</td>\n",
       "      <td>Husband</td>\n",
       "      <td>White</td>\n",
       "      <td>Male</td>\n",
       "      <td>0</td>\n",
       "      <td>0</td>\n",
       "      <td>40</td>\n",
       "      <td>United-States</td>\n",
       "      <td>&lt;=50K</td>\n",
       "    </tr>\n",
       "    <tr>\n",
       "      <th>48799</th>\n",
       "      <td>57</td>\n",
       "      <td>Local-gov</td>\n",
       "      <td>110417</td>\n",
       "      <td>HS-grad</td>\n",
       "      <td>9</td>\n",
       "      <td>Married-civ-spouse</td>\n",
       "      <td>Craft-repair</td>\n",
       "      <td>Husband</td>\n",
       "      <td>White</td>\n",
       "      <td>Male</td>\n",
       "      <td>99999</td>\n",
       "      <td>0</td>\n",
       "      <td>40</td>\n",
       "      <td>United-States</td>\n",
       "      <td>&gt;50K</td>\n",
       "    </tr>\n",
       "    <tr>\n",
       "      <th>48800</th>\n",
       "      <td>46</td>\n",
       "      <td>Private</td>\n",
       "      <td>364548</td>\n",
       "      <td>Some-college</td>\n",
       "      <td>10</td>\n",
       "      <td>Married-civ-spouse</td>\n",
       "      <td>Exec-managerial</td>\n",
       "      <td>Husband</td>\n",
       "      <td>White</td>\n",
       "      <td>Male</td>\n",
       "      <td>0</td>\n",
       "      <td>0</td>\n",
       "      <td>48</td>\n",
       "      <td>United-States</td>\n",
       "      <td>&gt;50K</td>\n",
       "    </tr>\n",
       "    <tr>\n",
       "      <th>48801</th>\n",
       "      <td>27</td>\n",
       "      <td>Private</td>\n",
       "      <td>177398</td>\n",
       "      <td>HS-grad</td>\n",
       "      <td>9</td>\n",
       "      <td>Never-married</td>\n",
       "      <td>Other-service</td>\n",
       "      <td>Unmarried</td>\n",
       "      <td>White</td>\n",
       "      <td>Female</td>\n",
       "      <td>0</td>\n",
       "      <td>0</td>\n",
       "      <td>64</td>\n",
       "      <td>United-States</td>\n",
       "      <td>&lt;=50K</td>\n",
       "    </tr>\n",
       "    <tr>\n",
       "      <th>48802</th>\n",
       "      <td>33</td>\n",
       "      <td>Private</td>\n",
       "      <td>273243</td>\n",
       "      <td>HS-grad</td>\n",
       "      <td>9</td>\n",
       "      <td>Married-civ-spouse</td>\n",
       "      <td>Craft-repair</td>\n",
       "      <td>Husband</td>\n",
       "      <td>Black</td>\n",
       "      <td>Male</td>\n",
       "      <td>0</td>\n",
       "      <td>0</td>\n",
       "      <td>40</td>\n",
       "      <td>United-States</td>\n",
       "      <td>&lt;=50K</td>\n",
       "    </tr>\n",
       "    <tr>\n",
       "      <th>48803</th>\n",
       "      <td>58</td>\n",
       "      <td>Private</td>\n",
       "      <td>147707</td>\n",
       "      <td>11th</td>\n",
       "      <td>7</td>\n",
       "      <td>Married-civ-spouse</td>\n",
       "      <td>Sales</td>\n",
       "      <td>Husband</td>\n",
       "      <td>White</td>\n",
       "      <td>Male</td>\n",
       "      <td>0</td>\n",
       "      <td>0</td>\n",
       "      <td>40</td>\n",
       "      <td>United-States</td>\n",
       "      <td>&lt;=50K</td>\n",
       "    </tr>\n",
       "    <tr>\n",
       "      <th>48804</th>\n",
       "      <td>30</td>\n",
       "      <td>Private</td>\n",
       "      <td>77266</td>\n",
       "      <td>HS-grad</td>\n",
       "      <td>9</td>\n",
       "      <td>Divorced</td>\n",
       "      <td>Transport-moving</td>\n",
       "      <td>Not-in-family</td>\n",
       "      <td>White</td>\n",
       "      <td>Male</td>\n",
       "      <td>0</td>\n",
       "      <td>0</td>\n",
       "      <td>55</td>\n",
       "      <td>United-States</td>\n",
       "      <td>&lt;=50K</td>\n",
       "    </tr>\n",
       "    <tr>\n",
       "      <th>48805</th>\n",
       "      <td>26</td>\n",
       "      <td>Private</td>\n",
       "      <td>191648</td>\n",
       "      <td>Assoc-acdm</td>\n",
       "      <td>12</td>\n",
       "      <td>Never-married</td>\n",
       "      <td>Machine-op-inspct</td>\n",
       "      <td>Other-relative</td>\n",
       "      <td>White</td>\n",
       "      <td>Female</td>\n",
       "      <td>0</td>\n",
       "      <td>0</td>\n",
       "      <td>15</td>\n",
       "      <td>United-States</td>\n",
       "      <td>&lt;=50K</td>\n",
       "    </tr>\n",
       "    <tr>\n",
       "      <th>48806</th>\n",
       "      <td>81</td>\n",
       "      <td>?</td>\n",
       "      <td>120478</td>\n",
       "      <td>Assoc-voc</td>\n",
       "      <td>11</td>\n",
       "      <td>Divorced</td>\n",
       "      <td>?</td>\n",
       "      <td>Unmarried</td>\n",
       "      <td>White</td>\n",
       "      <td>Female</td>\n",
       "      <td>0</td>\n",
       "      <td>0</td>\n",
       "      <td>1</td>\n",
       "      <td>?</td>\n",
       "      <td>&lt;=50K</td>\n",
       "    </tr>\n",
       "    <tr>\n",
       "      <th>48807</th>\n",
       "      <td>32</td>\n",
       "      <td>Private</td>\n",
       "      <td>211349</td>\n",
       "      <td>10th</td>\n",
       "      <td>6</td>\n",
       "      <td>Married-civ-spouse</td>\n",
       "      <td>Transport-moving</td>\n",
       "      <td>Husband</td>\n",
       "      <td>White</td>\n",
       "      <td>Male</td>\n",
       "      <td>0</td>\n",
       "      <td>0</td>\n",
       "      <td>40</td>\n",
       "      <td>United-States</td>\n",
       "      <td>&lt;=50K</td>\n",
       "    </tr>\n",
       "    <tr>\n",
       "      <th>48808</th>\n",
       "      <td>22</td>\n",
       "      <td>Private</td>\n",
       "      <td>203715</td>\n",
       "      <td>Some-college</td>\n",
       "      <td>10</td>\n",
       "      <td>Never-married</td>\n",
       "      <td>Adm-clerical</td>\n",
       "      <td>Own-child</td>\n",
       "      <td>White</td>\n",
       "      <td>Male</td>\n",
       "      <td>0</td>\n",
       "      <td>0</td>\n",
       "      <td>40</td>\n",
       "      <td>United-States</td>\n",
       "      <td>&lt;=50K</td>\n",
       "    </tr>\n",
       "    <tr>\n",
       "      <th>48809</th>\n",
       "      <td>31</td>\n",
       "      <td>Private</td>\n",
       "      <td>292592</td>\n",
       "      <td>HS-grad</td>\n",
       "      <td>9</td>\n",
       "      <td>Married-civ-spouse</td>\n",
       "      <td>Machine-op-inspct</td>\n",
       "      <td>Wife</td>\n",
       "      <td>White</td>\n",
       "      <td>Female</td>\n",
       "      <td>0</td>\n",
       "      <td>0</td>\n",
       "      <td>40</td>\n",
       "      <td>United-States</td>\n",
       "      <td>&lt;=50K</td>\n",
       "    </tr>\n",
       "    <tr>\n",
       "      <th>48810</th>\n",
       "      <td>29</td>\n",
       "      <td>Private</td>\n",
       "      <td>125976</td>\n",
       "      <td>HS-grad</td>\n",
       "      <td>9</td>\n",
       "      <td>Separated</td>\n",
       "      <td>Sales</td>\n",
       "      <td>Unmarried</td>\n",
       "      <td>White</td>\n",
       "      <td>Female</td>\n",
       "      <td>0</td>\n",
       "      <td>0</td>\n",
       "      <td>35</td>\n",
       "      <td>United-States</td>\n",
       "      <td>&lt;=50K</td>\n",
       "    </tr>\n",
       "    <tr>\n",
       "      <th>48811</th>\n",
       "      <td>35</td>\n",
       "      <td>?</td>\n",
       "      <td>320084</td>\n",
       "      <td>Bachelors</td>\n",
       "      <td>13</td>\n",
       "      <td>Married-civ-spouse</td>\n",
       "      <td>?</td>\n",
       "      <td>Wife</td>\n",
       "      <td>White</td>\n",
       "      <td>Female</td>\n",
       "      <td>0</td>\n",
       "      <td>0</td>\n",
       "      <td>55</td>\n",
       "      <td>United-States</td>\n",
       "      <td>&gt;50K</td>\n",
       "    </tr>\n",
       "    <tr>\n",
       "      <th>48812</th>\n",
       "      <td>30</td>\n",
       "      <td>?</td>\n",
       "      <td>33811</td>\n",
       "      <td>Bachelors</td>\n",
       "      <td>13</td>\n",
       "      <td>Never-married</td>\n",
       "      <td>?</td>\n",
       "      <td>Not-in-family</td>\n",
       "      <td>Asian-Pac-Islander</td>\n",
       "      <td>Female</td>\n",
       "      <td>0</td>\n",
       "      <td>0</td>\n",
       "      <td>99</td>\n",
       "      <td>United-States</td>\n",
       "      <td>&lt;=50K</td>\n",
       "    </tr>\n",
       "    <tr>\n",
       "      <th>48813</th>\n",
       "      <td>34</td>\n",
       "      <td>Private</td>\n",
       "      <td>204461</td>\n",
       "      <td>Doctorate</td>\n",
       "      <td>16</td>\n",
       "      <td>Married-civ-spouse</td>\n",
       "      <td>Prof-specialty</td>\n",
       "      <td>Husband</td>\n",
       "      <td>White</td>\n",
       "      <td>Male</td>\n",
       "      <td>0</td>\n",
       "      <td>0</td>\n",
       "      <td>60</td>\n",
       "      <td>United-States</td>\n",
       "      <td>&gt;50K</td>\n",
       "    </tr>\n",
       "    <tr>\n",
       "      <th>48814</th>\n",
       "      <td>54</td>\n",
       "      <td>Private</td>\n",
       "      <td>337992</td>\n",
       "      <td>Bachelors</td>\n",
       "      <td>13</td>\n",
       "      <td>Married-civ-spouse</td>\n",
       "      <td>Exec-managerial</td>\n",
       "      <td>Husband</td>\n",
       "      <td>Asian-Pac-Islander</td>\n",
       "      <td>Male</td>\n",
       "      <td>0</td>\n",
       "      <td>0</td>\n",
       "      <td>50</td>\n",
       "      <td>Japan</td>\n",
       "      <td>&gt;50K</td>\n",
       "    </tr>\n",
       "    <tr>\n",
       "      <th>48815</th>\n",
       "      <td>37</td>\n",
       "      <td>Private</td>\n",
       "      <td>179137</td>\n",
       "      <td>Some-college</td>\n",
       "      <td>10</td>\n",
       "      <td>Divorced</td>\n",
       "      <td>Adm-clerical</td>\n",
       "      <td>Unmarried</td>\n",
       "      <td>White</td>\n",
       "      <td>Female</td>\n",
       "      <td>0</td>\n",
       "      <td>0</td>\n",
       "      <td>39</td>\n",
       "      <td>United-States</td>\n",
       "      <td>&lt;=50K</td>\n",
       "    </tr>\n",
       "    <tr>\n",
       "      <th>48816</th>\n",
       "      <td>22</td>\n",
       "      <td>Private</td>\n",
       "      <td>325033</td>\n",
       "      <td>12th</td>\n",
       "      <td>8</td>\n",
       "      <td>Never-married</td>\n",
       "      <td>Protective-serv</td>\n",
       "      <td>Own-child</td>\n",
       "      <td>Black</td>\n",
       "      <td>Male</td>\n",
       "      <td>0</td>\n",
       "      <td>0</td>\n",
       "      <td>35</td>\n",
       "      <td>United-States</td>\n",
       "      <td>&lt;=50K</td>\n",
       "    </tr>\n",
       "    <tr>\n",
       "      <th>48817</th>\n",
       "      <td>34</td>\n",
       "      <td>Private</td>\n",
       "      <td>160216</td>\n",
       "      <td>Bachelors</td>\n",
       "      <td>13</td>\n",
       "      <td>Never-married</td>\n",
       "      <td>Exec-managerial</td>\n",
       "      <td>Not-in-family</td>\n",
       "      <td>White</td>\n",
       "      <td>Female</td>\n",
       "      <td>0</td>\n",
       "      <td>0</td>\n",
       "      <td>55</td>\n",
       "      <td>United-States</td>\n",
       "      <td>&gt;50K</td>\n",
       "    </tr>\n",
       "    <tr>\n",
       "      <th>48818</th>\n",
       "      <td>30</td>\n",
       "      <td>Private</td>\n",
       "      <td>345898</td>\n",
       "      <td>HS-grad</td>\n",
       "      <td>9</td>\n",
       "      <td>Never-married</td>\n",
       "      <td>Craft-repair</td>\n",
       "      <td>Not-in-family</td>\n",
       "      <td>Black</td>\n",
       "      <td>Male</td>\n",
       "      <td>0</td>\n",
       "      <td>0</td>\n",
       "      <td>46</td>\n",
       "      <td>United-States</td>\n",
       "      <td>&lt;=50K</td>\n",
       "    </tr>\n",
       "    <tr>\n",
       "      <th>48819</th>\n",
       "      <td>38</td>\n",
       "      <td>Private</td>\n",
       "      <td>139180</td>\n",
       "      <td>Bachelors</td>\n",
       "      <td>13</td>\n",
       "      <td>Divorced</td>\n",
       "      <td>Prof-specialty</td>\n",
       "      <td>Unmarried</td>\n",
       "      <td>Black</td>\n",
       "      <td>Female</td>\n",
       "      <td>15020</td>\n",
       "      <td>0</td>\n",
       "      <td>45</td>\n",
       "      <td>United-States</td>\n",
       "      <td>&gt;50K</td>\n",
       "    </tr>\n",
       "    <tr>\n",
       "      <th>48820</th>\n",
       "      <td>71</td>\n",
       "      <td>?</td>\n",
       "      <td>287372</td>\n",
       "      <td>Doctorate</td>\n",
       "      <td>16</td>\n",
       "      <td>Married-civ-spouse</td>\n",
       "      <td>?</td>\n",
       "      <td>Husband</td>\n",
       "      <td>White</td>\n",
       "      <td>Male</td>\n",
       "      <td>0</td>\n",
       "      <td>0</td>\n",
       "      <td>10</td>\n",
       "      <td>United-States</td>\n",
       "      <td>&gt;50K</td>\n",
       "    </tr>\n",
       "    <tr>\n",
       "      <th>48821</th>\n",
       "      <td>45</td>\n",
       "      <td>State-gov</td>\n",
       "      <td>252208</td>\n",
       "      <td>HS-grad</td>\n",
       "      <td>9</td>\n",
       "      <td>Separated</td>\n",
       "      <td>Adm-clerical</td>\n",
       "      <td>Own-child</td>\n",
       "      <td>White</td>\n",
       "      <td>Female</td>\n",
       "      <td>0</td>\n",
       "      <td>0</td>\n",
       "      <td>40</td>\n",
       "      <td>United-States</td>\n",
       "      <td>&lt;=50K</td>\n",
       "    </tr>\n",
       "    <tr>\n",
       "      <th>48822</th>\n",
       "      <td>41</td>\n",
       "      <td>?</td>\n",
       "      <td>202822</td>\n",
       "      <td>HS-grad</td>\n",
       "      <td>9</td>\n",
       "      <td>Separated</td>\n",
       "      <td>?</td>\n",
       "      <td>Not-in-family</td>\n",
       "      <td>Black</td>\n",
       "      <td>Female</td>\n",
       "      <td>0</td>\n",
       "      <td>0</td>\n",
       "      <td>32</td>\n",
       "      <td>United-States</td>\n",
       "      <td>&lt;=50K</td>\n",
       "    </tr>\n",
       "    <tr>\n",
       "      <th>48823</th>\n",
       "      <td>72</td>\n",
       "      <td>?</td>\n",
       "      <td>129912</td>\n",
       "      <td>HS-grad</td>\n",
       "      <td>9</td>\n",
       "      <td>Married-civ-spouse</td>\n",
       "      <td>?</td>\n",
       "      <td>Husband</td>\n",
       "      <td>White</td>\n",
       "      <td>Male</td>\n",
       "      <td>0</td>\n",
       "      <td>0</td>\n",
       "      <td>25</td>\n",
       "      <td>United-States</td>\n",
       "      <td>&lt;=50K</td>\n",
       "    </tr>\n",
       "    <tr>\n",
       "      <th>48824</th>\n",
       "      <td>45</td>\n",
       "      <td>Local-gov</td>\n",
       "      <td>119199</td>\n",
       "      <td>Assoc-acdm</td>\n",
       "      <td>12</td>\n",
       "      <td>Divorced</td>\n",
       "      <td>Prof-specialty</td>\n",
       "      <td>Unmarried</td>\n",
       "      <td>White</td>\n",
       "      <td>Female</td>\n",
       "      <td>0</td>\n",
       "      <td>0</td>\n",
       "      <td>48</td>\n",
       "      <td>United-States</td>\n",
       "      <td>&lt;=50K</td>\n",
       "    </tr>\n",
       "    <tr>\n",
       "      <th>48825</th>\n",
       "      <td>31</td>\n",
       "      <td>Private</td>\n",
       "      <td>199655</td>\n",
       "      <td>Masters</td>\n",
       "      <td>14</td>\n",
       "      <td>Divorced</td>\n",
       "      <td>Other-service</td>\n",
       "      <td>Not-in-family</td>\n",
       "      <td>Other</td>\n",
       "      <td>Female</td>\n",
       "      <td>0</td>\n",
       "      <td>0</td>\n",
       "      <td>30</td>\n",
       "      <td>United-States</td>\n",
       "      <td>&lt;=50K</td>\n",
       "    </tr>\n",
       "    <tr>\n",
       "      <th>48826</th>\n",
       "      <td>39</td>\n",
       "      <td>Local-gov</td>\n",
       "      <td>111499</td>\n",
       "      <td>Assoc-acdm</td>\n",
       "      <td>12</td>\n",
       "      <td>Married-civ-spouse</td>\n",
       "      <td>Adm-clerical</td>\n",
       "      <td>Wife</td>\n",
       "      <td>White</td>\n",
       "      <td>Female</td>\n",
       "      <td>0</td>\n",
       "      <td>0</td>\n",
       "      <td>20</td>\n",
       "      <td>United-States</td>\n",
       "      <td>&gt;50K</td>\n",
       "    </tr>\n",
       "    <tr>\n",
       "      <th>48827</th>\n",
       "      <td>37</td>\n",
       "      <td>Private</td>\n",
       "      <td>198216</td>\n",
       "      <td>Assoc-acdm</td>\n",
       "      <td>12</td>\n",
       "      <td>Divorced</td>\n",
       "      <td>Tech-support</td>\n",
       "      <td>Not-in-family</td>\n",
       "      <td>White</td>\n",
       "      <td>Female</td>\n",
       "      <td>0</td>\n",
       "      <td>0</td>\n",
       "      <td>40</td>\n",
       "      <td>United-States</td>\n",
       "      <td>&lt;=50K</td>\n",
       "    </tr>\n",
       "    <tr>\n",
       "      <th>48828</th>\n",
       "      <td>43</td>\n",
       "      <td>Private</td>\n",
       "      <td>260761</td>\n",
       "      <td>HS-grad</td>\n",
       "      <td>9</td>\n",
       "      <td>Married-civ-spouse</td>\n",
       "      <td>Machine-op-inspct</td>\n",
       "      <td>Husband</td>\n",
       "      <td>White</td>\n",
       "      <td>Male</td>\n",
       "      <td>0</td>\n",
       "      <td>0</td>\n",
       "      <td>40</td>\n",
       "      <td>Mexico</td>\n",
       "      <td>&lt;=50K</td>\n",
       "    </tr>\n",
       "    <tr>\n",
       "      <th>48829</th>\n",
       "      <td>65</td>\n",
       "      <td>Self-emp-not-inc</td>\n",
       "      <td>99359</td>\n",
       "      <td>Prof-school</td>\n",
       "      <td>15</td>\n",
       "      <td>Never-married</td>\n",
       "      <td>Prof-specialty</td>\n",
       "      <td>Not-in-family</td>\n",
       "      <td>White</td>\n",
       "      <td>Male</td>\n",
       "      <td>1086</td>\n",
       "      <td>0</td>\n",
       "      <td>60</td>\n",
       "      <td>United-States</td>\n",
       "      <td>&lt;=50K</td>\n",
       "    </tr>\n",
       "    <tr>\n",
       "      <th>48830</th>\n",
       "      <td>43</td>\n",
       "      <td>State-gov</td>\n",
       "      <td>255835</td>\n",
       "      <td>Some-college</td>\n",
       "      <td>10</td>\n",
       "      <td>Divorced</td>\n",
       "      <td>Adm-clerical</td>\n",
       "      <td>Other-relative</td>\n",
       "      <td>White</td>\n",
       "      <td>Female</td>\n",
       "      <td>0</td>\n",
       "      <td>0</td>\n",
       "      <td>40</td>\n",
       "      <td>United-States</td>\n",
       "      <td>&lt;=50K</td>\n",
       "    </tr>\n",
       "    <tr>\n",
       "      <th>48831</th>\n",
       "      <td>43</td>\n",
       "      <td>Self-emp-not-inc</td>\n",
       "      <td>27242</td>\n",
       "      <td>Some-college</td>\n",
       "      <td>10</td>\n",
       "      <td>Married-civ-spouse</td>\n",
       "      <td>Craft-repair</td>\n",
       "      <td>Husband</td>\n",
       "      <td>White</td>\n",
       "      <td>Male</td>\n",
       "      <td>0</td>\n",
       "      <td>0</td>\n",
       "      <td>50</td>\n",
       "      <td>United-States</td>\n",
       "      <td>&lt;=50K</td>\n",
       "    </tr>\n",
       "    <tr>\n",
       "      <th>48832</th>\n",
       "      <td>32</td>\n",
       "      <td>Private</td>\n",
       "      <td>34066</td>\n",
       "      <td>10th</td>\n",
       "      <td>6</td>\n",
       "      <td>Married-civ-spouse</td>\n",
       "      <td>Handlers-cleaners</td>\n",
       "      <td>Husband</td>\n",
       "      <td>Amer-Indian-Eskimo</td>\n",
       "      <td>Male</td>\n",
       "      <td>0</td>\n",
       "      <td>0</td>\n",
       "      <td>40</td>\n",
       "      <td>United-States</td>\n",
       "      <td>&lt;=50K</td>\n",
       "    </tr>\n",
       "    <tr>\n",
       "      <th>48833</th>\n",
       "      <td>43</td>\n",
       "      <td>Private</td>\n",
       "      <td>84661</td>\n",
       "      <td>Assoc-voc</td>\n",
       "      <td>11</td>\n",
       "      <td>Married-civ-spouse</td>\n",
       "      <td>Sales</td>\n",
       "      <td>Husband</td>\n",
       "      <td>White</td>\n",
       "      <td>Male</td>\n",
       "      <td>0</td>\n",
       "      <td>0</td>\n",
       "      <td>45</td>\n",
       "      <td>United-States</td>\n",
       "      <td>&lt;=50K</td>\n",
       "    </tr>\n",
       "    <tr>\n",
       "      <th>48834</th>\n",
       "      <td>32</td>\n",
       "      <td>Private</td>\n",
       "      <td>116138</td>\n",
       "      <td>Masters</td>\n",
       "      <td>14</td>\n",
       "      <td>Never-married</td>\n",
       "      <td>Tech-support</td>\n",
       "      <td>Not-in-family</td>\n",
       "      <td>Asian-Pac-Islander</td>\n",
       "      <td>Male</td>\n",
       "      <td>0</td>\n",
       "      <td>0</td>\n",
       "      <td>11</td>\n",
       "      <td>Taiwan</td>\n",
       "      <td>&lt;=50K</td>\n",
       "    </tr>\n",
       "    <tr>\n",
       "      <th>48835</th>\n",
       "      <td>53</td>\n",
       "      <td>Private</td>\n",
       "      <td>321865</td>\n",
       "      <td>Masters</td>\n",
       "      <td>14</td>\n",
       "      <td>Married-civ-spouse</td>\n",
       "      <td>Exec-managerial</td>\n",
       "      <td>Husband</td>\n",
       "      <td>White</td>\n",
       "      <td>Male</td>\n",
       "      <td>0</td>\n",
       "      <td>0</td>\n",
       "      <td>40</td>\n",
       "      <td>United-States</td>\n",
       "      <td>&gt;50K</td>\n",
       "    </tr>\n",
       "    <tr>\n",
       "      <th>48836</th>\n",
       "      <td>22</td>\n",
       "      <td>Private</td>\n",
       "      <td>310152</td>\n",
       "      <td>Some-college</td>\n",
       "      <td>10</td>\n",
       "      <td>Never-married</td>\n",
       "      <td>Protective-serv</td>\n",
       "      <td>Not-in-family</td>\n",
       "      <td>White</td>\n",
       "      <td>Male</td>\n",
       "      <td>0</td>\n",
       "      <td>0</td>\n",
       "      <td>40</td>\n",
       "      <td>United-States</td>\n",
       "      <td>&lt;=50K</td>\n",
       "    </tr>\n",
       "    <tr>\n",
       "      <th>48837</th>\n",
       "      <td>27</td>\n",
       "      <td>Private</td>\n",
       "      <td>257302</td>\n",
       "      <td>Assoc-acdm</td>\n",
       "      <td>12</td>\n",
       "      <td>Married-civ-spouse</td>\n",
       "      <td>Tech-support</td>\n",
       "      <td>Wife</td>\n",
       "      <td>White</td>\n",
       "      <td>Female</td>\n",
       "      <td>0</td>\n",
       "      <td>0</td>\n",
       "      <td>38</td>\n",
       "      <td>United-States</td>\n",
       "      <td>&lt;=50K</td>\n",
       "    </tr>\n",
       "    <tr>\n",
       "      <th>48838</th>\n",
       "      <td>40</td>\n",
       "      <td>Private</td>\n",
       "      <td>154374</td>\n",
       "      <td>HS-grad</td>\n",
       "      <td>9</td>\n",
       "      <td>Married-civ-spouse</td>\n",
       "      <td>Machine-op-inspct</td>\n",
       "      <td>Husband</td>\n",
       "      <td>White</td>\n",
       "      <td>Male</td>\n",
       "      <td>0</td>\n",
       "      <td>0</td>\n",
       "      <td>40</td>\n",
       "      <td>United-States</td>\n",
       "      <td>&gt;50K</td>\n",
       "    </tr>\n",
       "    <tr>\n",
       "      <th>48839</th>\n",
       "      <td>58</td>\n",
       "      <td>Private</td>\n",
       "      <td>151910</td>\n",
       "      <td>HS-grad</td>\n",
       "      <td>9</td>\n",
       "      <td>Widowed</td>\n",
       "      <td>Adm-clerical</td>\n",
       "      <td>Unmarried</td>\n",
       "      <td>White</td>\n",
       "      <td>Female</td>\n",
       "      <td>0</td>\n",
       "      <td>0</td>\n",
       "      <td>40</td>\n",
       "      <td>United-States</td>\n",
       "      <td>&lt;=50K</td>\n",
       "    </tr>\n",
       "    <tr>\n",
       "      <th>48840</th>\n",
       "      <td>22</td>\n",
       "      <td>Private</td>\n",
       "      <td>201490</td>\n",
       "      <td>HS-grad</td>\n",
       "      <td>9</td>\n",
       "      <td>Never-married</td>\n",
       "      <td>Adm-clerical</td>\n",
       "      <td>Own-child</td>\n",
       "      <td>White</td>\n",
       "      <td>Male</td>\n",
       "      <td>0</td>\n",
       "      <td>0</td>\n",
       "      <td>20</td>\n",
       "      <td>United-States</td>\n",
       "      <td>&lt;=50K</td>\n",
       "    </tr>\n",
       "    <tr>\n",
       "      <th>48841</th>\n",
       "      <td>52</td>\n",
       "      <td>Self-emp-inc</td>\n",
       "      <td>287927</td>\n",
       "      <td>HS-grad</td>\n",
       "      <td>9</td>\n",
       "      <td>Married-civ-spouse</td>\n",
       "      <td>Exec-managerial</td>\n",
       "      <td>Wife</td>\n",
       "      <td>White</td>\n",
       "      <td>Female</td>\n",
       "      <td>15024</td>\n",
       "      <td>0</td>\n",
       "      <td>40</td>\n",
       "      <td>United-States</td>\n",
       "      <td>&gt;50K</td>\n",
       "    </tr>\n",
       "  </tbody>\n",
       "</table>\n",
       "</div>"
      ],
      "text/plain": [
       "       age         workclass  fnlwgt     education  educational-num  \\\n",
       "48782   71           Private  138145           9th                5   \n",
       "48783   35         Local-gov   79649     Bachelors               13   \n",
       "48784   47           Private  312088       HS-grad                9   \n",
       "48785   50           Private  208630       Masters               14   \n",
       "48786   33           Private  182401          10th                6   \n",
       "48787   38           Private   32916     Assoc-voc               11   \n",
       "48788   50           Private  302372     Bachelors               13   \n",
       "48789   45           Private  155093          10th                6   \n",
       "48790   32           Private  192965       HS-grad                9   \n",
       "48791   39           Private  107302       HS-grad                9   \n",
       "48792   25         Local-gov  514716     Bachelors               13   \n",
       "48793   20           Private  270436       HS-grad                9   \n",
       "48794   46           Private   42972       Masters               14   \n",
       "48795   40           Private  142657     Assoc-voc               11   \n",
       "48796   66       Federal-gov   47358          10th                6   \n",
       "48797   30           Private  176175     Assoc-voc               11   \n",
       "48798   36           Private  131459       7th-8th                4   \n",
       "48799   57         Local-gov  110417       HS-grad                9   \n",
       "48800   46           Private  364548  Some-college               10   \n",
       "48801   27           Private  177398       HS-grad                9   \n",
       "48802   33           Private  273243       HS-grad                9   \n",
       "48803   58           Private  147707          11th                7   \n",
       "48804   30           Private   77266       HS-grad                9   \n",
       "48805   26           Private  191648    Assoc-acdm               12   \n",
       "48806   81                 ?  120478     Assoc-voc               11   \n",
       "48807   32           Private  211349          10th                6   \n",
       "48808   22           Private  203715  Some-college               10   \n",
       "48809   31           Private  292592       HS-grad                9   \n",
       "48810   29           Private  125976       HS-grad                9   \n",
       "48811   35                 ?  320084     Bachelors               13   \n",
       "48812   30                 ?   33811     Bachelors               13   \n",
       "48813   34           Private  204461     Doctorate               16   \n",
       "48814   54           Private  337992     Bachelors               13   \n",
       "48815   37           Private  179137  Some-college               10   \n",
       "48816   22           Private  325033          12th                8   \n",
       "48817   34           Private  160216     Bachelors               13   \n",
       "48818   30           Private  345898       HS-grad                9   \n",
       "48819   38           Private  139180     Bachelors               13   \n",
       "48820   71                 ?  287372     Doctorate               16   \n",
       "48821   45         State-gov  252208       HS-grad                9   \n",
       "48822   41                 ?  202822       HS-grad                9   \n",
       "48823   72                 ?  129912       HS-grad                9   \n",
       "48824   45         Local-gov  119199    Assoc-acdm               12   \n",
       "48825   31           Private  199655       Masters               14   \n",
       "48826   39         Local-gov  111499    Assoc-acdm               12   \n",
       "48827   37           Private  198216    Assoc-acdm               12   \n",
       "48828   43           Private  260761       HS-grad                9   \n",
       "48829   65  Self-emp-not-inc   99359   Prof-school               15   \n",
       "48830   43         State-gov  255835  Some-college               10   \n",
       "48831   43  Self-emp-not-inc   27242  Some-college               10   \n",
       "48832   32           Private   34066          10th                6   \n",
       "48833   43           Private   84661     Assoc-voc               11   \n",
       "48834   32           Private  116138       Masters               14   \n",
       "48835   53           Private  321865       Masters               14   \n",
       "48836   22           Private  310152  Some-college               10   \n",
       "48837   27           Private  257302    Assoc-acdm               12   \n",
       "48838   40           Private  154374       HS-grad                9   \n",
       "48839   58           Private  151910       HS-grad                9   \n",
       "48840   22           Private  201490       HS-grad                9   \n",
       "48841   52      Self-emp-inc  287927       HS-grad                9   \n",
       "\n",
       "           marital-status         occupation    relationship  \\\n",
       "48782  Married-civ-spouse      Other-service         Husband   \n",
       "48783  Married-civ-spouse     Prof-specialty         Husband   \n",
       "48784  Married-civ-spouse       Craft-repair         Husband   \n",
       "48785            Divorced              Sales   Not-in-family   \n",
       "48786       Never-married       Adm-clerical   Not-in-family   \n",
       "48787  Married-civ-spouse       Craft-repair         Husband   \n",
       "48788  Married-civ-spouse     Prof-specialty         Husband   \n",
       "48789            Divorced      Other-service   Not-in-family   \n",
       "48790           Separated              Sales   Not-in-family   \n",
       "48791  Married-civ-spouse     Prof-specialty         Husband   \n",
       "48792       Never-married       Adm-clerical       Own-child   \n",
       "48793       Never-married  Machine-op-inspct       Own-child   \n",
       "48794  Married-civ-spouse     Prof-specialty            Wife   \n",
       "48795  Married-civ-spouse       Craft-repair         Husband   \n",
       "48796  Married-civ-spouse       Craft-repair         Husband   \n",
       "48797            Divorced       Adm-clerical       Unmarried   \n",
       "48798  Married-civ-spouse       Craft-repair         Husband   \n",
       "48799  Married-civ-spouse       Craft-repair         Husband   \n",
       "48800  Married-civ-spouse    Exec-managerial         Husband   \n",
       "48801       Never-married      Other-service       Unmarried   \n",
       "48802  Married-civ-spouse       Craft-repair         Husband   \n",
       "48803  Married-civ-spouse              Sales         Husband   \n",
       "48804            Divorced   Transport-moving   Not-in-family   \n",
       "48805       Never-married  Machine-op-inspct  Other-relative   \n",
       "48806            Divorced                  ?       Unmarried   \n",
       "48807  Married-civ-spouse   Transport-moving         Husband   \n",
       "48808       Never-married       Adm-clerical       Own-child   \n",
       "48809  Married-civ-spouse  Machine-op-inspct            Wife   \n",
       "48810           Separated              Sales       Unmarried   \n",
       "48811  Married-civ-spouse                  ?            Wife   \n",
       "48812       Never-married                  ?   Not-in-family   \n",
       "48813  Married-civ-spouse     Prof-specialty         Husband   \n",
       "48814  Married-civ-spouse    Exec-managerial         Husband   \n",
       "48815            Divorced       Adm-clerical       Unmarried   \n",
       "48816       Never-married    Protective-serv       Own-child   \n",
       "48817       Never-married    Exec-managerial   Not-in-family   \n",
       "48818       Never-married       Craft-repair   Not-in-family   \n",
       "48819            Divorced     Prof-specialty       Unmarried   \n",
       "48820  Married-civ-spouse                  ?         Husband   \n",
       "48821           Separated       Adm-clerical       Own-child   \n",
       "48822           Separated                  ?   Not-in-family   \n",
       "48823  Married-civ-spouse                  ?         Husband   \n",
       "48824            Divorced     Prof-specialty       Unmarried   \n",
       "48825            Divorced      Other-service   Not-in-family   \n",
       "48826  Married-civ-spouse       Adm-clerical            Wife   \n",
       "48827            Divorced       Tech-support   Not-in-family   \n",
       "48828  Married-civ-spouse  Machine-op-inspct         Husband   \n",
       "48829       Never-married     Prof-specialty   Not-in-family   \n",
       "48830            Divorced       Adm-clerical  Other-relative   \n",
       "48831  Married-civ-spouse       Craft-repair         Husband   \n",
       "48832  Married-civ-spouse  Handlers-cleaners         Husband   \n",
       "48833  Married-civ-spouse              Sales         Husband   \n",
       "48834       Never-married       Tech-support   Not-in-family   \n",
       "48835  Married-civ-spouse    Exec-managerial         Husband   \n",
       "48836       Never-married    Protective-serv   Not-in-family   \n",
       "48837  Married-civ-spouse       Tech-support            Wife   \n",
       "48838  Married-civ-spouse  Machine-op-inspct         Husband   \n",
       "48839             Widowed       Adm-clerical       Unmarried   \n",
       "48840       Never-married       Adm-clerical       Own-child   \n",
       "48841  Married-civ-spouse    Exec-managerial            Wife   \n",
       "\n",
       "                     race  gender  capital-gain  capital-loss  hours-per-week  \\\n",
       "48782               White    Male             0             0              40   \n",
       "48783               White    Male             0             0              50   \n",
       "48784               White    Male             0             0              40   \n",
       "48785               White  Female             0             0              50   \n",
       "48786               Black    Male             0             0              40   \n",
       "48787               White    Male             0             0              55   \n",
       "48788               White    Male             0             0              40   \n",
       "48789               Black  Female             0             0              38   \n",
       "48790               White  Female             0             0              45   \n",
       "48791               White    Male             0             0              45   \n",
       "48792               Black  Female             0             0              40   \n",
       "48793               White    Male             0             0              40   \n",
       "48794               White  Female             0             0              22   \n",
       "48795               Black    Male             0             0              45   \n",
       "48796               White    Male          3471             0              40   \n",
       "48797               White  Female             0             0              24   \n",
       "48798               White    Male             0             0              40   \n",
       "48799               White    Male         99999             0              40   \n",
       "48800               White    Male             0             0              48   \n",
       "48801               White  Female             0             0              64   \n",
       "48802               Black    Male             0             0              40   \n",
       "48803               White    Male             0             0              40   \n",
       "48804               White    Male             0             0              55   \n",
       "48805               White  Female             0             0              15   \n",
       "48806               White  Female             0             0               1   \n",
       "48807               White    Male             0             0              40   \n",
       "48808               White    Male             0             0              40   \n",
       "48809               White  Female             0             0              40   \n",
       "48810               White  Female             0             0              35   \n",
       "48811               White  Female             0             0              55   \n",
       "48812  Asian-Pac-Islander  Female             0             0              99   \n",
       "48813               White    Male             0             0              60   \n",
       "48814  Asian-Pac-Islander    Male             0             0              50   \n",
       "48815               White  Female             0             0              39   \n",
       "48816               Black    Male             0             0              35   \n",
       "48817               White  Female             0             0              55   \n",
       "48818               Black    Male             0             0              46   \n",
       "48819               Black  Female         15020             0              45   \n",
       "48820               White    Male             0             0              10   \n",
       "48821               White  Female             0             0              40   \n",
       "48822               Black  Female             0             0              32   \n",
       "48823               White    Male             0             0              25   \n",
       "48824               White  Female             0             0              48   \n",
       "48825               Other  Female             0             0              30   \n",
       "48826               White  Female             0             0              20   \n",
       "48827               White  Female             0             0              40   \n",
       "48828               White    Male             0             0              40   \n",
       "48829               White    Male          1086             0              60   \n",
       "48830               White  Female             0             0              40   \n",
       "48831               White    Male             0             0              50   \n",
       "48832  Amer-Indian-Eskimo    Male             0             0              40   \n",
       "48833               White    Male             0             0              45   \n",
       "48834  Asian-Pac-Islander    Male             0             0              11   \n",
       "48835               White    Male             0             0              40   \n",
       "48836               White    Male             0             0              40   \n",
       "48837               White  Female             0             0              38   \n",
       "48838               White    Male             0             0              40   \n",
       "48839               White  Female             0             0              40   \n",
       "48840               White    Male             0             0              20   \n",
       "48841               White  Female         15024             0              40   \n",
       "\n",
       "           native-country income  \n",
       "48782       United-States  <=50K  \n",
       "48783       United-States  <=50K  \n",
       "48784       United-States  <=50K  \n",
       "48785       United-States   >50K  \n",
       "48786       United-States  <=50K  \n",
       "48787       United-States   >50K  \n",
       "48788       United-States  <=50K  \n",
       "48789  Dominican-Republic  <=50K  \n",
       "48790       United-States  <=50K  \n",
       "48791                   ?   >50K  \n",
       "48792       United-States  <=50K  \n",
       "48793       United-States  <=50K  \n",
       "48794       United-States   >50K  \n",
       "48795       United-States  <=50K  \n",
       "48796       United-States  <=50K  \n",
       "48797       United-States  <=50K  \n",
       "48798       United-States  <=50K  \n",
       "48799       United-States   >50K  \n",
       "48800       United-States   >50K  \n",
       "48801       United-States  <=50K  \n",
       "48802       United-States  <=50K  \n",
       "48803       United-States  <=50K  \n",
       "48804       United-States  <=50K  \n",
       "48805       United-States  <=50K  \n",
       "48806                   ?  <=50K  \n",
       "48807       United-States  <=50K  \n",
       "48808       United-States  <=50K  \n",
       "48809       United-States  <=50K  \n",
       "48810       United-States  <=50K  \n",
       "48811       United-States   >50K  \n",
       "48812       United-States  <=50K  \n",
       "48813       United-States   >50K  \n",
       "48814               Japan   >50K  \n",
       "48815       United-States  <=50K  \n",
       "48816       United-States  <=50K  \n",
       "48817       United-States   >50K  \n",
       "48818       United-States  <=50K  \n",
       "48819       United-States   >50K  \n",
       "48820       United-States   >50K  \n",
       "48821       United-States  <=50K  \n",
       "48822       United-States  <=50K  \n",
       "48823       United-States  <=50K  \n",
       "48824       United-States  <=50K  \n",
       "48825       United-States  <=50K  \n",
       "48826       United-States   >50K  \n",
       "48827       United-States  <=50K  \n",
       "48828              Mexico  <=50K  \n",
       "48829       United-States  <=50K  \n",
       "48830       United-States  <=50K  \n",
       "48831       United-States  <=50K  \n",
       "48832       United-States  <=50K  \n",
       "48833       United-States  <=50K  \n",
       "48834              Taiwan  <=50K  \n",
       "48835       United-States   >50K  \n",
       "48836       United-States  <=50K  \n",
       "48837       United-States  <=50K  \n",
       "48838       United-States   >50K  \n",
       "48839       United-States  <=50K  \n",
       "48840       United-States  <=50K  \n",
       "48841       United-States   >50K  "
      ]
     },
     "execution_count": 4,
     "metadata": {},
     "output_type": "execute_result"
    }
   ],
   "source": [
    "data.tail(60)"
   ]
  },
  {
   "cell_type": "code",
   "execution_count": 5,
   "id": "cb3281c9",
   "metadata": {
    "execution": {
     "iopub.execute_input": "2024-05-11T14:47:10.164586Z",
     "iopub.status.busy": "2024-05-11T14:47:10.164109Z",
     "iopub.status.idle": "2024-05-11T14:47:10.171598Z",
     "shell.execute_reply": "2024-05-11T14:47:10.170406Z"
    },
    "papermill": {
     "duration": 0.035849,
     "end_time": "2024-05-11T14:47:10.174166",
     "exception": false,
     "start_time": "2024-05-11T14:47:10.138317",
     "status": "completed"
    },
    "tags": []
   },
   "outputs": [
    {
     "data": {
      "text/plain": [
       "(48842, 15)"
      ]
     },
     "execution_count": 5,
     "metadata": {},
     "output_type": "execute_result"
    }
   ],
   "source": [
    "data.shape"
   ]
  },
  {
   "cell_type": "code",
   "execution_count": 6,
   "id": "bc2627cc",
   "metadata": {
    "execution": {
     "iopub.execute_input": "2024-05-11T14:47:10.225139Z",
     "iopub.status.busy": "2024-05-11T14:47:10.224631Z",
     "iopub.status.idle": "2024-05-11T14:47:10.232261Z",
     "shell.execute_reply": "2024-05-11T14:47:10.230889Z"
    },
    "papermill": {
     "duration": 0.037028,
     "end_time": "2024-05-11T14:47:10.235550",
     "exception": false,
     "start_time": "2024-05-11T14:47:10.198522",
     "status": "completed"
    },
    "tags": []
   },
   "outputs": [
    {
     "data": {
      "text/plain": [
       "Index(['age', 'workclass', 'fnlwgt', 'education', 'educational-num',\n",
       "       'marital-status', 'occupation', 'relationship', 'race', 'gender',\n",
       "       'capital-gain', 'capital-loss', 'hours-per-week', 'native-country',\n",
       "       'income'],\n",
       "      dtype='object')"
      ]
     },
     "execution_count": 6,
     "metadata": {},
     "output_type": "execute_result"
    }
   ],
   "source": [
    "data.columns"
   ]
  },
  {
   "cell_type": "code",
   "execution_count": 7,
   "id": "2abb320e",
   "metadata": {
    "execution": {
     "iopub.execute_input": "2024-05-11T14:47:10.286656Z",
     "iopub.status.busy": "2024-05-11T14:47:10.286213Z",
     "iopub.status.idle": "2024-05-11T14:47:10.292387Z",
     "shell.execute_reply": "2024-05-11T14:47:10.291469Z"
    },
    "papermill": {
     "duration": 0.035388,
     "end_time": "2024-05-11T14:47:10.295757",
     "exception": false,
     "start_time": "2024-05-11T14:47:10.260369",
     "status": "completed"
    },
    "tags": []
   },
   "outputs": [
    {
     "data": {
      "text/plain": [
       "48842"
      ]
     },
     "execution_count": 7,
     "metadata": {},
     "output_type": "execute_result"
    }
   ],
   "source": [
    "data.shape[0]"
   ]
  },
  {
   "cell_type": "code",
   "execution_count": 8,
   "id": "074f68ec",
   "metadata": {
    "execution": {
     "iopub.execute_input": "2024-05-11T14:47:10.348772Z",
     "iopub.status.busy": "2024-05-11T14:47:10.348397Z",
     "iopub.status.idle": "2024-05-11T14:47:10.422758Z",
     "shell.execute_reply": "2024-05-11T14:47:10.421369Z"
    },
    "papermill": {
     "duration": 0.104281,
     "end_time": "2024-05-11T14:47:10.425777",
     "exception": false,
     "start_time": "2024-05-11T14:47:10.321496",
     "status": "completed"
    },
    "tags": []
   },
   "outputs": [
    {
     "name": "stdout",
     "output_type": "stream",
     "text": [
      "<class 'pandas.core.frame.DataFrame'>\n",
      "RangeIndex: 48842 entries, 0 to 48841\n",
      "Data columns (total 15 columns):\n",
      " #   Column           Non-Null Count  Dtype \n",
      "---  ------           --------------  ----- \n",
      " 0   age              48842 non-null  int64 \n",
      " 1   workclass        48842 non-null  object\n",
      " 2   fnlwgt           48842 non-null  int64 \n",
      " 3   education        48842 non-null  object\n",
      " 4   educational-num  48842 non-null  int64 \n",
      " 5   marital-status   48842 non-null  object\n",
      " 6   occupation       48842 non-null  object\n",
      " 7   relationship     48842 non-null  object\n",
      " 8   race             48842 non-null  object\n",
      " 9   gender           48842 non-null  object\n",
      " 10  capital-gain     48842 non-null  int64 \n",
      " 11  capital-loss     48842 non-null  int64 \n",
      " 12  hours-per-week   48842 non-null  int64 \n",
      " 13  native-country   48842 non-null  object\n",
      " 14  income           48842 non-null  object\n",
      "dtypes: int64(6), object(9)\n",
      "memory usage: 5.6+ MB\n"
     ]
    }
   ],
   "source": [
    "data.info()"
   ]
  },
  {
   "cell_type": "code",
   "execution_count": 9,
   "id": "4b43f248",
   "metadata": {
    "execution": {
     "iopub.execute_input": "2024-05-11T14:47:10.477895Z",
     "iopub.status.busy": "2024-05-11T14:47:10.477462Z",
     "iopub.status.idle": "2024-05-11T14:47:10.517759Z",
     "shell.execute_reply": "2024-05-11T14:47:10.516409Z"
    },
    "papermill": {
     "duration": 0.069412,
     "end_time": "2024-05-11T14:47:10.520608",
     "exception": false,
     "start_time": "2024-05-11T14:47:10.451196",
     "status": "completed"
    },
    "tags": []
   },
   "outputs": [
    {
     "data": {
      "text/html": [
       "<div>\n",
       "<style scoped>\n",
       "    .dataframe tbody tr th:only-of-type {\n",
       "        vertical-align: middle;\n",
       "    }\n",
       "\n",
       "    .dataframe tbody tr th {\n",
       "        vertical-align: top;\n",
       "    }\n",
       "\n",
       "    .dataframe thead th {\n",
       "        text-align: right;\n",
       "    }\n",
       "</style>\n",
       "<table border=\"1\" class=\"dataframe\">\n",
       "  <thead>\n",
       "    <tr style=\"text-align: right;\">\n",
       "      <th></th>\n",
       "      <th>age</th>\n",
       "      <th>workclass</th>\n",
       "      <th>fnlwgt</th>\n",
       "      <th>education</th>\n",
       "      <th>educational-num</th>\n",
       "      <th>marital-status</th>\n",
       "      <th>occupation</th>\n",
       "      <th>relationship</th>\n",
       "      <th>race</th>\n",
       "      <th>gender</th>\n",
       "      <th>capital-gain</th>\n",
       "      <th>capital-loss</th>\n",
       "      <th>hours-per-week</th>\n",
       "      <th>native-country</th>\n",
       "      <th>income</th>\n",
       "    </tr>\n",
       "  </thead>\n",
       "  <tbody>\n",
       "    <tr>\n",
       "      <th>12393</th>\n",
       "      <td>37</td>\n",
       "      <td>Private</td>\n",
       "      <td>110331</td>\n",
       "      <td>Prof-school</td>\n",
       "      <td>15</td>\n",
       "      <td>Married-civ-spouse</td>\n",
       "      <td>Other-service</td>\n",
       "      <td>Wife</td>\n",
       "      <td>White</td>\n",
       "      <td>Female</td>\n",
       "      <td>0</td>\n",
       "      <td>0</td>\n",
       "      <td>60</td>\n",
       "      <td>United-States</td>\n",
       "      <td>&gt;50K</td>\n",
       "    </tr>\n",
       "    <tr>\n",
       "      <th>48701</th>\n",
       "      <td>23</td>\n",
       "      <td>Private</td>\n",
       "      <td>45834</td>\n",
       "      <td>Bachelors</td>\n",
       "      <td>13</td>\n",
       "      <td>Never-married</td>\n",
       "      <td>Exec-managerial</td>\n",
       "      <td>Not-in-family</td>\n",
       "      <td>White</td>\n",
       "      <td>Female</td>\n",
       "      <td>0</td>\n",
       "      <td>0</td>\n",
       "      <td>50</td>\n",
       "      <td>United-States</td>\n",
       "      <td>&lt;=50K</td>\n",
       "    </tr>\n",
       "    <tr>\n",
       "      <th>17918</th>\n",
       "      <td>28</td>\n",
       "      <td>Private</td>\n",
       "      <td>89718</td>\n",
       "      <td>HS-grad</td>\n",
       "      <td>9</td>\n",
       "      <td>Never-married</td>\n",
       "      <td>Sales</td>\n",
       "      <td>Not-in-family</td>\n",
       "      <td>White</td>\n",
       "      <td>Female</td>\n",
       "      <td>2202</td>\n",
       "      <td>0</td>\n",
       "      <td>48</td>\n",
       "      <td>United-States</td>\n",
       "      <td>&lt;=50K</td>\n",
       "    </tr>\n",
       "    <tr>\n",
       "      <th>11352</th>\n",
       "      <td>30</td>\n",
       "      <td>Private</td>\n",
       "      <td>351770</td>\n",
       "      <td>9th</td>\n",
       "      <td>5</td>\n",
       "      <td>Divorced</td>\n",
       "      <td>Other-service</td>\n",
       "      <td>Unmarried</td>\n",
       "      <td>White</td>\n",
       "      <td>Female</td>\n",
       "      <td>0</td>\n",
       "      <td>0</td>\n",
       "      <td>38</td>\n",
       "      <td>United-States</td>\n",
       "      <td>&lt;=50K</td>\n",
       "    </tr>\n",
       "    <tr>\n",
       "      <th>36198</th>\n",
       "      <td>31</td>\n",
       "      <td>Private</td>\n",
       "      <td>164190</td>\n",
       "      <td>10th</td>\n",
       "      <td>6</td>\n",
       "      <td>Married-civ-spouse</td>\n",
       "      <td>Transport-moving</td>\n",
       "      <td>Husband</td>\n",
       "      <td>White</td>\n",
       "      <td>Male</td>\n",
       "      <td>0</td>\n",
       "      <td>0</td>\n",
       "      <td>40</td>\n",
       "      <td>United-States</td>\n",
       "      <td>&lt;=50K</td>\n",
       "    </tr>\n",
       "    <tr>\n",
       "      <th>...</th>\n",
       "      <td>...</td>\n",
       "      <td>...</td>\n",
       "      <td>...</td>\n",
       "      <td>...</td>\n",
       "      <td>...</td>\n",
       "      <td>...</td>\n",
       "      <td>...</td>\n",
       "      <td>...</td>\n",
       "      <td>...</td>\n",
       "      <td>...</td>\n",
       "      <td>...</td>\n",
       "      <td>...</td>\n",
       "      <td>...</td>\n",
       "      <td>...</td>\n",
       "      <td>...</td>\n",
       "    </tr>\n",
       "    <tr>\n",
       "      <th>48573</th>\n",
       "      <td>41</td>\n",
       "      <td>Private</td>\n",
       "      <td>318046</td>\n",
       "      <td>Some-college</td>\n",
       "      <td>10</td>\n",
       "      <td>Married-civ-spouse</td>\n",
       "      <td>Transport-moving</td>\n",
       "      <td>Husband</td>\n",
       "      <td>White</td>\n",
       "      <td>Male</td>\n",
       "      <td>0</td>\n",
       "      <td>0</td>\n",
       "      <td>48</td>\n",
       "      <td>United-States</td>\n",
       "      <td>&gt;50K</td>\n",
       "    </tr>\n",
       "    <tr>\n",
       "      <th>47252</th>\n",
       "      <td>41</td>\n",
       "      <td>Local-gov</td>\n",
       "      <td>33658</td>\n",
       "      <td>Some-college</td>\n",
       "      <td>10</td>\n",
       "      <td>Married-civ-spouse</td>\n",
       "      <td>Protective-serv</td>\n",
       "      <td>Husband</td>\n",
       "      <td>White</td>\n",
       "      <td>Male</td>\n",
       "      <td>0</td>\n",
       "      <td>0</td>\n",
       "      <td>45</td>\n",
       "      <td>United-States</td>\n",
       "      <td>&gt;50K</td>\n",
       "    </tr>\n",
       "    <tr>\n",
       "      <th>33142</th>\n",
       "      <td>69</td>\n",
       "      <td>Private</td>\n",
       "      <td>312653</td>\n",
       "      <td>Some-college</td>\n",
       "      <td>10</td>\n",
       "      <td>Married-civ-spouse</td>\n",
       "      <td>Sales</td>\n",
       "      <td>Husband</td>\n",
       "      <td>White</td>\n",
       "      <td>Male</td>\n",
       "      <td>0</td>\n",
       "      <td>0</td>\n",
       "      <td>25</td>\n",
       "      <td>United-States</td>\n",
       "      <td>&lt;=50K</td>\n",
       "    </tr>\n",
       "    <tr>\n",
       "      <th>2965</th>\n",
       "      <td>21</td>\n",
       "      <td>?</td>\n",
       "      <td>334593</td>\n",
       "      <td>Some-college</td>\n",
       "      <td>10</td>\n",
       "      <td>Never-married</td>\n",
       "      <td>?</td>\n",
       "      <td>Not-in-family</td>\n",
       "      <td>White</td>\n",
       "      <td>Male</td>\n",
       "      <td>0</td>\n",
       "      <td>0</td>\n",
       "      <td>40</td>\n",
       "      <td>United-States</td>\n",
       "      <td>&lt;=50K</td>\n",
       "    </tr>\n",
       "    <tr>\n",
       "      <th>32089</th>\n",
       "      <td>34</td>\n",
       "      <td>Private</td>\n",
       "      <td>186269</td>\n",
       "      <td>HS-grad</td>\n",
       "      <td>9</td>\n",
       "      <td>Divorced</td>\n",
       "      <td>Adm-clerical</td>\n",
       "      <td>Own-child</td>\n",
       "      <td>White</td>\n",
       "      <td>Male</td>\n",
       "      <td>0</td>\n",
       "      <td>0</td>\n",
       "      <td>40</td>\n",
       "      <td>United-States</td>\n",
       "      <td>&lt;=50K</td>\n",
       "    </tr>\n",
       "  </tbody>\n",
       "</table>\n",
       "<p>24421 rows × 15 columns</p>\n",
       "</div>"
      ],
      "text/plain": [
       "       age  workclass  fnlwgt     education  educational-num  \\\n",
       "12393   37    Private  110331   Prof-school               15   \n",
       "48701   23    Private   45834     Bachelors               13   \n",
       "17918   28    Private   89718       HS-grad                9   \n",
       "11352   30    Private  351770           9th                5   \n",
       "36198   31    Private  164190          10th                6   \n",
       "...    ...        ...     ...           ...              ...   \n",
       "48573   41    Private  318046  Some-college               10   \n",
       "47252   41  Local-gov   33658  Some-college               10   \n",
       "33142   69    Private  312653  Some-college               10   \n",
       "2965    21          ?  334593  Some-college               10   \n",
       "32089   34    Private  186269       HS-grad                9   \n",
       "\n",
       "           marital-status        occupation   relationship   race  gender  \\\n",
       "12393  Married-civ-spouse     Other-service           Wife  White  Female   \n",
       "48701       Never-married   Exec-managerial  Not-in-family  White  Female   \n",
       "17918       Never-married             Sales  Not-in-family  White  Female   \n",
       "11352            Divorced     Other-service      Unmarried  White  Female   \n",
       "36198  Married-civ-spouse  Transport-moving        Husband  White    Male   \n",
       "...                   ...               ...            ...    ...     ...   \n",
       "48573  Married-civ-spouse  Transport-moving        Husband  White    Male   \n",
       "47252  Married-civ-spouse   Protective-serv        Husband  White    Male   \n",
       "33142  Married-civ-spouse             Sales        Husband  White    Male   \n",
       "2965        Never-married                 ?  Not-in-family  White    Male   \n",
       "32089            Divorced      Adm-clerical      Own-child  White    Male   \n",
       "\n",
       "       capital-gain  capital-loss  hours-per-week native-country income  \n",
       "12393             0             0              60  United-States   >50K  \n",
       "48701             0             0              50  United-States  <=50K  \n",
       "17918          2202             0              48  United-States  <=50K  \n",
       "11352             0             0              38  United-States  <=50K  \n",
       "36198             0             0              40  United-States  <=50K  \n",
       "...             ...           ...             ...            ...    ...  \n",
       "48573             0             0              48  United-States   >50K  \n",
       "47252             0             0              45  United-States   >50K  \n",
       "33142             0             0              25  United-States  <=50K  \n",
       "2965              0             0              40  United-States  <=50K  \n",
       "32089             0             0              40  United-States  <=50K  \n",
       "\n",
       "[24421 rows x 15 columns]"
      ]
     },
     "execution_count": 9,
     "metadata": {},
     "output_type": "execute_result"
    }
   ],
   "source": [
    "data.sample(frac=0.5, random_state= 100)"
   ]
  },
  {
   "cell_type": "code",
   "execution_count": 10,
   "id": "7730cc7d",
   "metadata": {
    "execution": {
     "iopub.execute_input": "2024-05-11T14:47:10.573245Z",
     "iopub.status.busy": "2024-05-11T14:47:10.572854Z",
     "iopub.status.idle": "2024-05-11T14:47:10.631293Z",
     "shell.execute_reply": "2024-05-11T14:47:10.629900Z"
    },
    "papermill": {
     "duration": 0.088027,
     "end_time": "2024-05-11T14:47:10.634043",
     "exception": false,
     "start_time": "2024-05-11T14:47:10.546016",
     "status": "completed"
    },
    "tags": []
   },
   "outputs": [
    {
     "data": {
      "text/plain": [
       "age                0\n",
       "workclass          0\n",
       "fnlwgt             0\n",
       "education          0\n",
       "educational-num    0\n",
       "marital-status     0\n",
       "occupation         0\n",
       "relationship       0\n",
       "race               0\n",
       "gender             0\n",
       "capital-gain       0\n",
       "capital-loss       0\n",
       "hours-per-week     0\n",
       "native-country     0\n",
       "income             0\n",
       "dtype: int64"
      ]
     },
     "execution_count": 10,
     "metadata": {},
     "output_type": "execute_result"
    }
   ],
   "source": [
    "data.isnull().sum()"
   ]
  },
  {
   "cell_type": "code",
   "execution_count": 11,
   "id": "0abcfb6a",
   "metadata": {
    "execution": {
     "iopub.execute_input": "2024-05-11T14:47:10.688626Z",
     "iopub.status.busy": "2024-05-11T14:47:10.688224Z",
     "iopub.status.idle": "2024-05-11T14:47:12.562436Z",
     "shell.execute_reply": "2024-05-11T14:47:12.561241Z"
    },
    "papermill": {
     "duration": 1.905238,
     "end_time": "2024-05-11T14:47:12.565308",
     "exception": false,
     "start_time": "2024-05-11T14:47:10.660070",
     "status": "completed"
    },
    "tags": []
   },
   "outputs": [
    {
     "data": {
      "text/plain": [
       "<Axes: >"
      ]
     },
     "execution_count": 11,
     "metadata": {},
     "output_type": "execute_result"
    },
    {
     "data": {
      "image/png": "[encoded data removed]",
      "text/plain": [
       "<Figure size 640x480 with 2 Axes>"
      ]
     },
     "metadata": {},
     "output_type": "display_data"
    }
   ],
   "source": [
    "sns.heatmap(data.isnull())"
   ]
  },
  {
   "cell_type": "markdown",
   "id": "5e4516b5",
   "metadata": {
    "papermill": {
     "duration": 0.028905,
     "end_time": "2024-05-11T14:47:12.621852",
     "exception": false,
     "start_time": "2024-05-11T14:47:12.592947",
     "status": "completed"
    },
    "tags": []
   },
   "source": [
    "**Check of there is ? in Data **"
   ]
  },
  {
   "cell_type": "code",
   "execution_count": 12,
   "id": "8271f098",
   "metadata": {
    "execution": {
     "iopub.execute_input": "2024-05-11T14:47:12.677244Z",
     "iopub.status.busy": "2024-05-11T14:47:12.676841Z",
     "iopub.status.idle": "2024-05-11T14:47:12.726359Z",
     "shell.execute_reply": "2024-05-11T14:47:12.724859Z"
    },
    "papermill": {
     "duration": 0.080668,
     "end_time": "2024-05-11T14:47:12.729144",
     "exception": false,
     "start_time": "2024-05-11T14:47:12.648476",
     "status": "completed"
    },
    "tags": []
   },
   "outputs": [
    {
     "data": {
      "text/plain": [
       "age                   0\n",
       "workclass          2799\n",
       "fnlwgt                0\n",
       "education             0\n",
       "educational-num       0\n",
       "marital-status        0\n",
       "occupation         2809\n",
       "relationship          0\n",
       "race                  0\n",
       "gender                0\n",
       "capital-gain          0\n",
       "capital-loss          0\n",
       "hours-per-week        0\n",
       "native-country      857\n",
       "income                0\n",
       "dtype: int64"
      ]
     },
     "execution_count": 12,
     "metadata": {},
     "output_type": "execute_result"
    }
   ],
   "source": [
    "data.isin(['?']).sum()"
   ]
  },
  {
   "cell_type": "markdown",
   "id": "ac66ca87",
   "metadata": {
    "papermill": {
     "duration": 0.026475,
     "end_time": "2024-05-11T14:47:12.782589",
     "exception": false,
     "start_time": "2024-05-11T14:47:12.756114",
     "status": "completed"
    },
    "tags": []
   },
   "source": [
    "Fill those with NAN"
   ]
  },
  {
   "cell_type": "code",
   "execution_count": 13,
   "id": "8d86931a",
   "metadata": {
    "execution": {
     "iopub.execute_input": "2024-05-11T14:47:12.839312Z",
     "iopub.status.busy": "2024-05-11T14:47:12.838897Z",
     "iopub.status.idle": "2024-05-11T14:47:12.874000Z",
     "shell.execute_reply": "2024-05-11T14:47:12.872821Z"
    },
    "papermill": {
     "duration": 0.066636,
     "end_time": "2024-05-11T14:47:12.876821",
     "exception": false,
     "start_time": "2024-05-11T14:47:12.810185",
     "status": "completed"
    },
    "tags": []
   },
   "outputs": [],
   "source": [
    "data['workclass'] = data['workclass'].replace('?', np.nan)\n",
    "data['occupation'] = data['occupation'].replace('?', np.nan)\n",
    "data['native-country'] = data['native-country'].replace('?', np.nan)\n"
   ]
  },
  {
   "cell_type": "code",
   "execution_count": 14,
   "id": "6ab2319f",
   "metadata": {
    "execution": {
     "iopub.execute_input": "2024-05-11T14:47:12.934230Z",
     "iopub.status.busy": "2024-05-11T14:47:12.933849Z",
     "iopub.status.idle": "2024-05-11T14:47:12.980345Z",
     "shell.execute_reply": "2024-05-11T14:47:12.979199Z"
    },
    "papermill": {
     "duration": 0.078329,
     "end_time": "2024-05-11T14:47:12.982812",
     "exception": false,
     "start_time": "2024-05-11T14:47:12.904483",
     "status": "completed"
    },
    "tags": []
   },
   "outputs": [
    {
     "data": {
      "text/plain": [
       "age                0\n",
       "workclass          0\n",
       "fnlwgt             0\n",
       "education          0\n",
       "educational-num    0\n",
       "marital-status     0\n",
       "occupation         0\n",
       "relationship       0\n",
       "race               0\n",
       "gender             0\n",
       "capital-gain       0\n",
       "capital-loss       0\n",
       "hours-per-week     0\n",
       "native-country     0\n",
       "income             0\n",
       "dtype: int64"
      ]
     },
     "execution_count": 14,
     "metadata": {},
     "output_type": "execute_result"
    }
   ],
   "source": [
    "data.isin(['?']).sum()"
   ]
  },
  {
   "cell_type": "markdown",
   "id": "c1ec72ce",
   "metadata": {
    "papermill": {
     "duration": 0.026524,
     "end_time": "2024-05-11T14:47:13.036470",
     "exception": false,
     "start_time": "2024-05-11T14:47:13.009946",
     "status": "completed"
    },
    "tags": []
   },
   "source": [
    "Check how many columns are NULL"
   ]
  },
  {
   "cell_type": "code",
   "execution_count": 15,
   "id": "b8466d4c",
   "metadata": {
    "execution": {
     "iopub.execute_input": "2024-05-11T14:47:13.092212Z",
     "iopub.status.busy": "2024-05-11T14:47:13.091762Z",
     "iopub.status.idle": "2024-05-11T14:47:13.150424Z",
     "shell.execute_reply": "2024-05-11T14:47:13.149215Z"
    },
    "papermill": {
     "duration": 0.089643,
     "end_time": "2024-05-11T14:47:13.153147",
     "exception": false,
     "start_time": "2024-05-11T14:47:13.063504",
     "status": "completed"
    },
    "tags": []
   },
   "outputs": [
    {
     "data": {
      "text/plain": [
       "age                   0\n",
       "workclass          2799\n",
       "fnlwgt                0\n",
       "education             0\n",
       "educational-num       0\n",
       "marital-status        0\n",
       "occupation         2809\n",
       "relationship          0\n",
       "race                  0\n",
       "gender                0\n",
       "capital-gain          0\n",
       "capital-loss          0\n",
       "hours-per-week        0\n",
       "native-country      857\n",
       "income                0\n",
       "dtype: int64"
      ]
     },
     "execution_count": 15,
     "metadata": {},
     "output_type": "execute_result"
    }
   ],
   "source": [
    "data.isnull().sum()"
   ]
  },
  {
   "cell_type": "code",
   "execution_count": 16,
   "id": "faa6d924",
   "metadata": {
    "execution": {
     "iopub.execute_input": "2024-05-11T14:47:13.270884Z",
     "iopub.status.busy": "2024-05-11T14:47:13.270425Z",
     "iopub.status.idle": "2024-05-11T14:47:14.877251Z",
     "shell.execute_reply": "2024-05-11T14:47:14.876055Z"
    },
    "papermill": {
     "duration": 1.639639,
     "end_time": "2024-05-11T14:47:14.880213",
     "exception": false,
     "start_time": "2024-05-11T14:47:13.240574",
     "status": "completed"
    },
    "tags": []
   },
   "outputs": [
    {
     "data": {
      "text/plain": [
       "<Axes: >"
      ]
     },
     "execution_count": 16,
     "metadata": {},
     "output_type": "execute_result"
    },
    {
     "data": {
      "image/png": "[encoded data removed]",
      "text/plain": [
       "<Figure size 640x480 with 2 Axes>"
      ]
     },
     "metadata": {},
     "output_type": "display_data"
    }
   ],
   "source": [
    "sns.heatmap(data.isnull())"
   ]
  },
  {
   "cell_type": "markdown",
   "id": "c6b98438",
   "metadata": {
    "papermill": {
     "duration": 0.028293,
     "end_time": "2024-05-11T14:47:14.937563",
     "exception": false,
     "start_time": "2024-05-11T14:47:14.909270",
     "status": "completed"
    },
    "tags": []
   },
   "source": [
    "DROP the NAN"
   ]
  },
  {
   "cell_type": "code",
   "execution_count": 17,
   "id": "c62c5c3f",
   "metadata": {
    "execution": {
     "iopub.execute_input": "2024-05-11T14:47:14.996882Z",
     "iopub.status.busy": "2024-05-11T14:47:14.996086Z",
     "iopub.status.idle": "2024-05-11T14:47:15.058442Z",
     "shell.execute_reply": "2024-05-11T14:47:15.057335Z"
    },
    "papermill": {
     "duration": 0.09559,
     "end_time": "2024-05-11T14:47:15.061514",
     "exception": false,
     "start_time": "2024-05-11T14:47:14.965924",
     "status": "completed"
    },
    "tags": []
   },
   "outputs": [],
   "source": [
    "data.dropna(inplace= True)"
   ]
  },
  {
   "cell_type": "code",
   "execution_count": 18,
   "id": "793d2ebf",
   "metadata": {
    "execution": {
     "iopub.execute_input": "2024-05-11T14:47:15.122376Z",
     "iopub.status.busy": "2024-05-11T14:47:15.121656Z",
     "iopub.status.idle": "2024-05-11T14:47:15.176193Z",
     "shell.execute_reply": "2024-05-11T14:47:15.174869Z"
    },
    "papermill": {
     "duration": 0.088032,
     "end_time": "2024-05-11T14:47:15.179144",
     "exception": false,
     "start_time": "2024-05-11T14:47:15.091112",
     "status": "completed"
    },
    "tags": []
   },
   "outputs": [
    {
     "data": {
      "text/plain": [
       "age                0\n",
       "workclass          0\n",
       "fnlwgt             0\n",
       "education          0\n",
       "educational-num    0\n",
       "marital-status     0\n",
       "occupation         0\n",
       "relationship       0\n",
       "race               0\n",
       "gender             0\n",
       "capital-gain       0\n",
       "capital-loss       0\n",
       "hours-per-week     0\n",
       "native-country     0\n",
       "income             0\n",
       "dtype: int64"
      ]
     },
     "execution_count": 18,
     "metadata": {},
     "output_type": "execute_result"
    }
   ],
   "source": [
    "data.isnull().sum()"
   ]
  },
  {
   "cell_type": "code",
   "execution_count": 19,
   "id": "087f5017",
   "metadata": {
    "execution": {
     "iopub.execute_input": "2024-05-11T14:47:15.238321Z",
     "iopub.status.busy": "2024-05-11T14:47:15.237911Z",
     "iopub.status.idle": "2024-05-11T14:47:16.800851Z",
     "shell.execute_reply": "2024-05-11T14:47:16.799584Z"
    },
    "papermill": {
     "duration": 1.596084,
     "end_time": "2024-05-11T14:47:16.803620",
     "exception": false,
     "start_time": "2024-05-11T14:47:15.207536",
     "status": "completed"
    },
    "tags": []
   },
   "outputs": [
    {
     "data": {
      "text/plain": [
       "<Axes: >"
      ]
     },
     "execution_count": 19,
     "metadata": {},
     "output_type": "execute_result"
    },
    {
     "data": {
      "image/png": "[encoded data removed]",
      "text/plain": [
       "<Figure size 640x480 with 2 Axes>"
      ]
     },
     "metadata": {},
     "output_type": "display_data"
    }
   ],
   "source": [
    "sns.heatmap(data.isnull())"
   ]
  },
  {
   "cell_type": "code",
   "execution_count": 20,
   "id": "76e63f86",
   "metadata": {
    "execution": {
     "iopub.execute_input": "2024-05-11T14:47:16.868083Z",
     "iopub.status.busy": "2024-05-11T14:47:16.866359Z",
     "iopub.status.idle": "2024-05-11T14:47:16.876794Z",
     "shell.execute_reply": "2024-05-11T14:47:16.873689Z"
    },
    "papermill": {
     "duration": 0.046939,
     "end_time": "2024-05-11T14:47:16.881353",
     "exception": false,
     "start_time": "2024-05-11T14:47:16.834414",
     "status": "completed"
    },
    "tags": []
   },
   "outputs": [
    {
     "data": {
      "text/plain": [
       "(45222, 15)"
      ]
     },
     "execution_count": 20,
     "metadata": {},
     "output_type": "execute_result"
    }
   ],
   "source": [
    "data.shape"
   ]
  },
  {
   "cell_type": "code",
   "execution_count": 21,
   "id": "383842e8",
   "metadata": {
    "execution": {
     "iopub.execute_input": "2024-05-11T14:47:16.944821Z",
     "iopub.status.busy": "2024-05-11T14:47:16.944413Z",
     "iopub.status.idle": "2024-05-11T14:47:16.951604Z",
     "shell.execute_reply": "2024-05-11T14:47:16.950337Z"
    },
    "papermill": {
     "duration": 0.041149,
     "end_time": "2024-05-11T14:47:16.954173",
     "exception": false,
     "start_time": "2024-05-11T14:47:16.913024",
     "status": "completed"
    },
    "tags": []
   },
   "outputs": [
    {
     "data": {
      "text/plain": [
       "3620"
      ]
     },
     "execution_count": 21,
     "metadata": {},
     "output_type": "execute_result"
    }
   ],
   "source": [
    "48842-45222"
   ]
  },
  {
   "cell_type": "markdown",
   "id": "9c766323",
   "metadata": {
    "papermill": {
     "duration": 0.033621,
     "end_time": "2024-05-11T14:47:17.019223",
     "exception": false,
     "start_time": "2024-05-11T14:47:16.985602",
     "status": "completed"
    },
    "tags": []
   },
   "source": [
    "Remove all the duplicates "
   ]
  },
  {
   "cell_type": "code",
   "execution_count": 22,
   "id": "88aea5b0",
   "metadata": {
    "execution": {
     "iopub.execute_input": "2024-05-11T14:47:17.082020Z",
     "iopub.status.busy": "2024-05-11T14:47:17.081607Z",
     "iopub.status.idle": "2024-05-11T14:47:17.140000Z",
     "shell.execute_reply": "2024-05-11T14:47:17.138144Z"
    },
    "papermill": {
     "duration": 0.095221,
     "end_time": "2024-05-11T14:47:17.145139",
     "exception": false,
     "start_time": "2024-05-11T14:47:17.049918",
     "status": "completed"
    },
    "tags": []
   },
   "outputs": [
    {
     "data": {
      "text/plain": [
       "True"
      ]
     },
     "execution_count": 22,
     "metadata": {},
     "output_type": "execute_result"
    }
   ],
   "source": [
    "data.duplicated().any()"
   ]
  },
  {
   "cell_type": "code",
   "execution_count": 23,
   "id": "e3722cb0",
   "metadata": {
    "execution": {
     "iopub.execute_input": "2024-05-11T14:47:17.208915Z",
     "iopub.status.busy": "2024-05-11T14:47:17.207683Z",
     "iopub.status.idle": "2024-05-11T14:47:17.214498Z",
     "shell.execute_reply": "2024-05-11T14:47:17.213465Z"
    },
    "papermill": {
     "duration": 0.040761,
     "end_time": "2024-05-11T14:47:17.216776",
     "exception": false,
     "start_time": "2024-05-11T14:47:17.176015",
     "status": "completed"
    },
    "tags": []
   },
   "outputs": [
    {
     "data": {
      "text/plain": [
       "(45222, 15)"
      ]
     },
     "execution_count": 23,
     "metadata": {},
     "output_type": "execute_result"
    }
   ],
   "source": [
    "data.shape"
   ]
  },
  {
   "cell_type": "code",
   "execution_count": 24,
   "id": "ddc75019",
   "metadata": {
    "execution": {
     "iopub.execute_input": "2024-05-11T14:47:17.281908Z",
     "iopub.status.busy": "2024-05-11T14:47:17.281213Z",
     "iopub.status.idle": "2024-05-11T14:47:17.345286Z",
     "shell.execute_reply": "2024-05-11T14:47:17.344029Z"
    },
    "papermill": {
     "duration": 0.100498,
     "end_time": "2024-05-11T14:47:17.348578",
     "exception": false,
     "start_time": "2024-05-11T14:47:17.248080",
     "status": "completed"
    },
    "tags": []
   },
   "outputs": [],
   "source": [
    "data = data.drop_duplicates()"
   ]
  },
  {
   "cell_type": "code",
   "execution_count": 25,
   "id": "f37b64e3",
   "metadata": {
    "execution": {
     "iopub.execute_input": "2024-05-11T14:47:17.413119Z",
     "iopub.status.busy": "2024-05-11T14:47:17.412659Z",
     "iopub.status.idle": "2024-05-11T14:47:17.420634Z",
     "shell.execute_reply": "2024-05-11T14:47:17.419292Z"
    },
    "papermill": {
     "duration": 0.043136,
     "end_time": "2024-05-11T14:47:17.423160",
     "exception": false,
     "start_time": "2024-05-11T14:47:17.380024",
     "status": "completed"
    },
    "tags": []
   },
   "outputs": [
    {
     "data": {
      "text/plain": [
       "(45175, 15)"
      ]
     },
     "execution_count": 25,
     "metadata": {},
     "output_type": "execute_result"
    }
   ],
   "source": [
    "data.shape"
   ]
  },
  {
   "cell_type": "code",
   "execution_count": 26,
   "id": "c5b1b787",
   "metadata": {
    "execution": {
     "iopub.execute_input": "2024-05-11T14:47:17.488176Z",
     "iopub.status.busy": "2024-05-11T14:47:17.487503Z",
     "iopub.status.idle": "2024-05-11T14:47:17.545668Z",
     "shell.execute_reply": "2024-05-11T14:47:17.544486Z"
    },
    "papermill": {
     "duration": 0.093577,
     "end_time": "2024-05-11T14:47:17.548226",
     "exception": false,
     "start_time": "2024-05-11T14:47:17.454649",
     "status": "completed"
    },
    "tags": []
   },
   "outputs": [
    {
     "data": {
      "text/plain": [
       "False"
      ]
     },
     "execution_count": 26,
     "metadata": {},
     "output_type": "execute_result"
    }
   ],
   "source": [
    "data.duplicated().any()"
   ]
  },
  {
   "cell_type": "markdown",
   "id": "4f2b4eeb",
   "metadata": {
    "papermill": {
     "duration": 0.032127,
     "end_time": "2024-05-11T14:47:17.611970",
     "exception": false,
     "start_time": "2024-05-11T14:47:17.579843",
     "status": "completed"
    },
    "tags": []
   },
   "source": [
    "OVERALL Statistics of numerical columns"
   ]
  },
  {
   "cell_type": "code",
   "execution_count": 27,
   "id": "de502f63",
   "metadata": {
    "execution": {
     "iopub.execute_input": "2024-05-11T14:47:17.679479Z",
     "iopub.status.busy": "2024-05-11T14:47:17.678240Z",
     "iopub.status.idle": "2024-05-11T14:47:17.721027Z",
     "shell.execute_reply": "2024-05-11T14:47:17.720098Z"
    },
    "papermill": {
     "duration": 0.07768,
     "end_time": "2024-05-11T14:47:17.723706",
     "exception": false,
     "start_time": "2024-05-11T14:47:17.646026",
     "status": "completed"
    },
    "tags": []
   },
   "outputs": [
    {
     "data": {
      "text/html": [
       "<div>\n",
       "<style scoped>\n",
       "    .dataframe tbody tr th:only-of-type {\n",
       "        vertical-align: middle;\n",
       "    }\n",
       "\n",
       "    .dataframe tbody tr th {\n",
       "        vertical-align: top;\n",
       "    }\n",
       "\n",
       "    .dataframe thead th {\n",
       "        text-align: right;\n",
       "    }\n",
       "</style>\n",
       "<table border=\"1\" class=\"dataframe\">\n",
       "  <thead>\n",
       "    <tr style=\"text-align: right;\">\n",
       "      <th></th>\n",
       "      <th>age</th>\n",
       "      <th>fnlwgt</th>\n",
       "      <th>educational-num</th>\n",
       "      <th>capital-gain</th>\n",
       "      <th>capital-loss</th>\n",
       "      <th>hours-per-week</th>\n",
       "    </tr>\n",
       "  </thead>\n",
       "  <tbody>\n",
       "    <tr>\n",
       "      <th>count</th>\n",
       "      <td>45175.000000</td>\n",
       "      <td>4.517500e+04</td>\n",
       "      <td>45175.000000</td>\n",
       "      <td>45175.000000</td>\n",
       "      <td>45175.000000</td>\n",
       "      <td>45175.000000</td>\n",
       "    </tr>\n",
       "    <tr>\n",
       "      <th>mean</th>\n",
       "      <td>38.556170</td>\n",
       "      <td>1.897388e+05</td>\n",
       "      <td>10.119314</td>\n",
       "      <td>1102.576270</td>\n",
       "      <td>88.687593</td>\n",
       "      <td>40.942512</td>\n",
       "    </tr>\n",
       "    <tr>\n",
       "      <th>std</th>\n",
       "      <td>13.215349</td>\n",
       "      <td>1.056524e+05</td>\n",
       "      <td>2.551740</td>\n",
       "      <td>7510.249876</td>\n",
       "      <td>405.156611</td>\n",
       "      <td>12.007730</td>\n",
       "    </tr>\n",
       "    <tr>\n",
       "      <th>min</th>\n",
       "      <td>17.000000</td>\n",
       "      <td>1.349200e+04</td>\n",
       "      <td>1.000000</td>\n",
       "      <td>0.000000</td>\n",
       "      <td>0.000000</td>\n",
       "      <td>1.000000</td>\n",
       "    </tr>\n",
       "    <tr>\n",
       "      <th>25%</th>\n",
       "      <td>28.000000</td>\n",
       "      <td>1.173925e+05</td>\n",
       "      <td>9.000000</td>\n",
       "      <td>0.000000</td>\n",
       "      <td>0.000000</td>\n",
       "      <td>40.000000</td>\n",
       "    </tr>\n",
       "    <tr>\n",
       "      <th>50%</th>\n",
       "      <td>37.000000</td>\n",
       "      <td>1.783120e+05</td>\n",
       "      <td>10.000000</td>\n",
       "      <td>0.000000</td>\n",
       "      <td>0.000000</td>\n",
       "      <td>40.000000</td>\n",
       "    </tr>\n",
       "    <tr>\n",
       "      <th>75%</th>\n",
       "      <td>47.000000</td>\n",
       "      <td>2.379030e+05</td>\n",
       "      <td>13.000000</td>\n",
       "      <td>0.000000</td>\n",
       "      <td>0.000000</td>\n",
       "      <td>45.000000</td>\n",
       "    </tr>\n",
       "    <tr>\n",
       "      <th>max</th>\n",
       "      <td>90.000000</td>\n",
       "      <td>1.490400e+06</td>\n",
       "      <td>16.000000</td>\n",
       "      <td>99999.000000</td>\n",
       "      <td>4356.000000</td>\n",
       "      <td>99.000000</td>\n",
       "    </tr>\n",
       "  </tbody>\n",
       "</table>\n",
       "</div>"
      ],
      "text/plain": [
       "                age        fnlwgt  educational-num  capital-gain  \\\n",
       "count  45175.000000  4.517500e+04     45175.000000  45175.000000   \n",
       "mean      38.556170  1.897388e+05        10.119314   1102.576270   \n",
       "std       13.215349  1.056524e+05         2.551740   7510.249876   \n",
       "min       17.000000  1.349200e+04         1.000000      0.000000   \n",
       "25%       28.000000  1.173925e+05         9.000000      0.000000   \n",
       "50%       37.000000  1.783120e+05        10.000000      0.000000   \n",
       "75%       47.000000  2.379030e+05        13.000000      0.000000   \n",
       "max       90.000000  1.490400e+06        16.000000  99999.000000   \n",
       "\n",
       "       capital-loss  hours-per-week  \n",
       "count  45175.000000    45175.000000  \n",
       "mean      88.687593       40.942512  \n",
       "std      405.156611       12.007730  \n",
       "min        0.000000        1.000000  \n",
       "25%        0.000000       40.000000  \n",
       "50%        0.000000       40.000000  \n",
       "75%        0.000000       45.000000  \n",
       "max     4356.000000       99.000000  "
      ]
     },
     "execution_count": 27,
     "metadata": {},
     "output_type": "execute_result"
    }
   ],
   "source": [
    "data.describe()"
   ]
  },
  {
   "cell_type": "markdown",
   "id": "e4ecd470",
   "metadata": {
    "papermill": {
     "duration": 0.032051,
     "end_time": "2024-05-11T14:47:17.787356",
     "exception": false,
     "start_time": "2024-05-11T14:47:17.755305",
     "status": "completed"
    },
    "tags": []
   },
   "source": [
    "OVERALL Statistics of numerical columns + Categorical columns"
   ]
  },
  {
   "cell_type": "code",
   "execution_count": 28,
   "id": "ed13f52a",
   "metadata": {
    "execution": {
     "iopub.execute_input": "2024-05-11T14:47:17.857887Z",
     "iopub.status.busy": "2024-05-11T14:47:17.857104Z",
     "iopub.status.idle": "2024-05-11T14:47:18.025360Z",
     "shell.execute_reply": "2024-05-11T14:47:18.023684Z"
    },
    "papermill": {
     "duration": 0.207575,
     "end_time": "2024-05-11T14:47:18.028610",
     "exception": false,
     "start_time": "2024-05-11T14:47:17.821035",
     "status": "completed"
    },
    "tags": []
   },
   "outputs": [
    {
     "data": {
      "text/html": [
       "<div>\n",
       "<style scoped>\n",
       "    .dataframe tbody tr th:only-of-type {\n",
       "        vertical-align: middle;\n",
       "    }\n",
       "\n",
       "    .dataframe tbody tr th {\n",
       "        vertical-align: top;\n",
       "    }\n",
       "\n",
       "    .dataframe thead th {\n",
       "        text-align: right;\n",
       "    }\n",
       "</style>\n",
       "<table border=\"1\" class=\"dataframe\">\n",
       "  <thead>\n",
       "    <tr style=\"text-align: right;\">\n",
       "      <th></th>\n",
       "      <th>age</th>\n",
       "      <th>workclass</th>\n",
       "      <th>fnlwgt</th>\n",
       "      <th>education</th>\n",
       "      <th>educational-num</th>\n",
       "      <th>marital-status</th>\n",
       "      <th>occupation</th>\n",
       "      <th>relationship</th>\n",
       "      <th>race</th>\n",
       "      <th>gender</th>\n",
       "      <th>capital-gain</th>\n",
       "      <th>capital-loss</th>\n",
       "      <th>hours-per-week</th>\n",
       "      <th>native-country</th>\n",
       "      <th>income</th>\n",
       "    </tr>\n",
       "  </thead>\n",
       "  <tbody>\n",
       "    <tr>\n",
       "      <th>count</th>\n",
       "      <td>45175.000000</td>\n",
       "      <td>45175</td>\n",
       "      <td>4.517500e+04</td>\n",
       "      <td>45175</td>\n",
       "      <td>45175.000000</td>\n",
       "      <td>45175</td>\n",
       "      <td>45175</td>\n",
       "      <td>45175</td>\n",
       "      <td>45175</td>\n",
       "      <td>45175</td>\n",
       "      <td>45175.000000</td>\n",
       "      <td>45175.000000</td>\n",
       "      <td>45175.000000</td>\n",
       "      <td>45175</td>\n",
       "      <td>45175</td>\n",
       "    </tr>\n",
       "    <tr>\n",
       "      <th>unique</th>\n",
       "      <td>NaN</td>\n",
       "      <td>7</td>\n",
       "      <td>NaN</td>\n",
       "      <td>16</td>\n",
       "      <td>NaN</td>\n",
       "      <td>7</td>\n",
       "      <td>14</td>\n",
       "      <td>6</td>\n",
       "      <td>5</td>\n",
       "      <td>2</td>\n",
       "      <td>NaN</td>\n",
       "      <td>NaN</td>\n",
       "      <td>NaN</td>\n",
       "      <td>41</td>\n",
       "      <td>2</td>\n",
       "    </tr>\n",
       "    <tr>\n",
       "      <th>top</th>\n",
       "      <td>NaN</td>\n",
       "      <td>Private</td>\n",
       "      <td>NaN</td>\n",
       "      <td>HS-grad</td>\n",
       "      <td>NaN</td>\n",
       "      <td>Married-civ-spouse</td>\n",
       "      <td>Craft-repair</td>\n",
       "      <td>Husband</td>\n",
       "      <td>White</td>\n",
       "      <td>Male</td>\n",
       "      <td>NaN</td>\n",
       "      <td>NaN</td>\n",
       "      <td>NaN</td>\n",
       "      <td>United-States</td>\n",
       "      <td>&lt;=50K</td>\n",
       "    </tr>\n",
       "    <tr>\n",
       "      <th>freq</th>\n",
       "      <td>NaN</td>\n",
       "      <td>33262</td>\n",
       "      <td>NaN</td>\n",
       "      <td>14770</td>\n",
       "      <td>NaN</td>\n",
       "      <td>21042</td>\n",
       "      <td>6010</td>\n",
       "      <td>18653</td>\n",
       "      <td>38859</td>\n",
       "      <td>30495</td>\n",
       "      <td>NaN</td>\n",
       "      <td>NaN</td>\n",
       "      <td>NaN</td>\n",
       "      <td>41256</td>\n",
       "      <td>33973</td>\n",
       "    </tr>\n",
       "    <tr>\n",
       "      <th>mean</th>\n",
       "      <td>38.556170</td>\n",
       "      <td>NaN</td>\n",
       "      <td>1.897388e+05</td>\n",
       "      <td>NaN</td>\n",
       "      <td>10.119314</td>\n",
       "      <td>NaN</td>\n",
       "      <td>NaN</td>\n",
       "      <td>NaN</td>\n",
       "      <td>NaN</td>\n",
       "      <td>NaN</td>\n",
       "      <td>1102.576270</td>\n",
       "      <td>88.687593</td>\n",
       "      <td>40.942512</td>\n",
       "      <td>NaN</td>\n",
       "      <td>NaN</td>\n",
       "    </tr>\n",
       "    <tr>\n",
       "      <th>std</th>\n",
       "      <td>13.215349</td>\n",
       "      <td>NaN</td>\n",
       "      <td>1.056524e+05</td>\n",
       "      <td>NaN</td>\n",
       "      <td>2.551740</td>\n",
       "      <td>NaN</td>\n",
       "      <td>NaN</td>\n",
       "      <td>NaN</td>\n",
       "      <td>NaN</td>\n",
       "      <td>NaN</td>\n",
       "      <td>7510.249876</td>\n",
       "      <td>405.156611</td>\n",
       "      <td>12.007730</td>\n",
       "      <td>NaN</td>\n",
       "      <td>NaN</td>\n",
       "    </tr>\n",
       "    <tr>\n",
       "      <th>min</th>\n",
       "      <td>17.000000</td>\n",
       "      <td>NaN</td>\n",
       "      <td>1.349200e+04</td>\n",
       "      <td>NaN</td>\n",
       "      <td>1.000000</td>\n",
       "      <td>NaN</td>\n",
       "      <td>NaN</td>\n",
       "      <td>NaN</td>\n",
       "      <td>NaN</td>\n",
       "      <td>NaN</td>\n",
       "      <td>0.000000</td>\n",
       "      <td>0.000000</td>\n",
       "      <td>1.000000</td>\n",
       "      <td>NaN</td>\n",
       "      <td>NaN</td>\n",
       "    </tr>\n",
       "    <tr>\n",
       "      <th>25%</th>\n",
       "      <td>28.000000</td>\n",
       "      <td>NaN</td>\n",
       "      <td>1.173925e+05</td>\n",
       "      <td>NaN</td>\n",
       "      <td>9.000000</td>\n",
       "      <td>NaN</td>\n",
       "      <td>NaN</td>\n",
       "      <td>NaN</td>\n",
       "      <td>NaN</td>\n",
       "      <td>NaN</td>\n",
       "      <td>0.000000</td>\n",
       "      <td>0.000000</td>\n",
       "      <td>40.000000</td>\n",
       "      <td>NaN</td>\n",
       "      <td>NaN</td>\n",
       "    </tr>\n",
       "    <tr>\n",
       "      <th>50%</th>\n",
       "      <td>37.000000</td>\n",
       "      <td>NaN</td>\n",
       "      <td>1.783120e+05</td>\n",
       "      <td>NaN</td>\n",
       "      <td>10.000000</td>\n",
       "      <td>NaN</td>\n",
       "      <td>NaN</td>\n",
       "      <td>NaN</td>\n",
       "      <td>NaN</td>\n",
       "      <td>NaN</td>\n",
       "      <td>0.000000</td>\n",
       "      <td>0.000000</td>\n",
       "      <td>40.000000</td>\n",
       "      <td>NaN</td>\n",
       "      <td>NaN</td>\n",
       "    </tr>\n",
       "    <tr>\n",
       "      <th>75%</th>\n",
       "      <td>47.000000</td>\n",
       "      <td>NaN</td>\n",
       "      <td>2.379030e+05</td>\n",
       "      <td>NaN</td>\n",
       "      <td>13.000000</td>\n",
       "      <td>NaN</td>\n",
       "      <td>NaN</td>\n",
       "      <td>NaN</td>\n",
       "      <td>NaN</td>\n",
       "      <td>NaN</td>\n",
       "      <td>0.000000</td>\n",
       "      <td>0.000000</td>\n",
       "      <td>45.000000</td>\n",
       "      <td>NaN</td>\n",
       "      <td>NaN</td>\n",
       "    </tr>\n",
       "    <tr>\n",
       "      <th>max</th>\n",
       "      <td>90.000000</td>\n",
       "      <td>NaN</td>\n",
       "      <td>1.490400e+06</td>\n",
       "      <td>NaN</td>\n",
       "      <td>16.000000</td>\n",
       "      <td>NaN</td>\n",
       "      <td>NaN</td>\n",
       "      <td>NaN</td>\n",
       "      <td>NaN</td>\n",
       "      <td>NaN</td>\n",
       "      <td>99999.000000</td>\n",
       "      <td>4356.000000</td>\n",
       "      <td>99.000000</td>\n",
       "      <td>NaN</td>\n",
       "      <td>NaN</td>\n",
       "    </tr>\n",
       "  </tbody>\n",
       "</table>\n",
       "</div>"
      ],
      "text/plain": [
       "                 age workclass        fnlwgt education  educational-num  \\\n",
       "count   45175.000000     45175  4.517500e+04     45175     45175.000000   \n",
       "unique           NaN         7           NaN        16              NaN   \n",
       "top              NaN   Private           NaN   HS-grad              NaN   \n",
       "freq             NaN     33262           NaN     14770              NaN   \n",
       "mean       38.556170       NaN  1.897388e+05       NaN        10.119314   \n",
       "std        13.215349       NaN  1.056524e+05       NaN         2.551740   \n",
       "min        17.000000       NaN  1.349200e+04       NaN         1.000000   \n",
       "25%        28.000000       NaN  1.173925e+05       NaN         9.000000   \n",
       "50%        37.000000       NaN  1.783120e+05       NaN        10.000000   \n",
       "75%        47.000000       NaN  2.379030e+05       NaN        13.000000   \n",
       "max        90.000000       NaN  1.490400e+06       NaN        16.000000   \n",
       "\n",
       "            marital-status    occupation relationship   race gender  \\\n",
       "count                45175         45175        45175  45175  45175   \n",
       "unique                   7            14            6      5      2   \n",
       "top     Married-civ-spouse  Craft-repair      Husband  White   Male   \n",
       "freq                 21042          6010        18653  38859  30495   \n",
       "mean                   NaN           NaN          NaN    NaN    NaN   \n",
       "std                    NaN           NaN          NaN    NaN    NaN   \n",
       "min                    NaN           NaN          NaN    NaN    NaN   \n",
       "25%                    NaN           NaN          NaN    NaN    NaN   \n",
       "50%                    NaN           NaN          NaN    NaN    NaN   \n",
       "75%                    NaN           NaN          NaN    NaN    NaN   \n",
       "max                    NaN           NaN          NaN    NaN    NaN   \n",
       "\n",
       "        capital-gain  capital-loss  hours-per-week native-country income  \n",
       "count   45175.000000  45175.000000    45175.000000          45175  45175  \n",
       "unique           NaN           NaN             NaN             41      2  \n",
       "top              NaN           NaN             NaN  United-States  <=50K  \n",
       "freq             NaN           NaN             NaN          41256  33973  \n",
       "mean     1102.576270     88.687593       40.942512            NaN    NaN  \n",
       "std      7510.249876    405.156611       12.007730            NaN    NaN  \n",
       "min         0.000000      0.000000        1.000000            NaN    NaN  \n",
       "25%         0.000000      0.000000       40.000000            NaN    NaN  \n",
       "50%         0.000000      0.000000       40.000000            NaN    NaN  \n",
       "75%         0.000000      0.000000       45.000000            NaN    NaN  \n",
       "max     99999.000000   4356.000000       99.000000            NaN    NaN  "
      ]
     },
     "execution_count": 28,
     "metadata": {},
     "output_type": "execute_result"
    }
   ],
   "source": [
    "data.describe(include = 'all')"
   ]
  },
  {
   "cell_type": "markdown",
   "id": "daff4466",
   "metadata": {
    "papermill": {
     "duration": 0.037602,
     "end_time": "2024-05-11T14:47:18.102781",
     "exception": false,
     "start_time": "2024-05-11T14:47:18.065179",
     "status": "completed"
    },
    "tags": []
   },
   "source": [
    "In this  dataset education and educational-num are providing the same info"
   ]
  },
  {
   "cell_type": "code",
   "execution_count": 29,
   "id": "72ed2ab3",
   "metadata": {
    "execution": {
     "iopub.execute_input": "2024-05-11T14:47:18.178835Z",
     "iopub.status.busy": "2024-05-11T14:47:18.178380Z",
     "iopub.status.idle": "2024-05-11T14:47:18.190696Z",
     "shell.execute_reply": "2024-05-11T14:47:18.189260Z"
    },
    "papermill": {
     "duration": 0.05496,
     "end_time": "2024-05-11T14:47:18.193779",
     "exception": false,
     "start_time": "2024-05-11T14:47:18.138819",
     "status": "completed"
    },
    "tags": []
   },
   "outputs": [
    {
     "data": {
      "text/plain": [
       "array(['11th', 'HS-grad', 'Assoc-acdm', 'Some-college', '10th',\n",
       "       'Prof-school', '7th-8th', 'Bachelors', 'Masters', '5th-6th',\n",
       "       'Assoc-voc', '9th', 'Doctorate', '12th', '1st-4th', 'Preschool'],\n",
       "      dtype=object)"
      ]
     },
     "execution_count": 29,
     "metadata": {},
     "output_type": "execute_result"
    }
   ],
   "source": [
    "data['education'].unique()"
   ]
  },
  {
   "cell_type": "code",
   "execution_count": 30,
   "id": "591f3575",
   "metadata": {
    "execution": {
     "iopub.execute_input": "2024-05-11T14:47:18.267516Z",
     "iopub.status.busy": "2024-05-11T14:47:18.266763Z",
     "iopub.status.idle": "2024-05-11T14:47:18.277402Z",
     "shell.execute_reply": "2024-05-11T14:47:18.276400Z"
    },
    "papermill": {
     "duration": 0.051145,
     "end_time": "2024-05-11T14:47:18.279793",
     "exception": false,
     "start_time": "2024-05-11T14:47:18.228648",
     "status": "completed"
    },
    "tags": []
   },
   "outputs": [
    {
     "data": {
      "text/plain": [
       "array([ 7,  9, 12, 10,  6, 15,  4, 13, 14,  3, 11,  5, 16,  8,  2,  1])"
      ]
     },
     "execution_count": 30,
     "metadata": {},
     "output_type": "execute_result"
    }
   ],
   "source": [
    "data['educational-num'].unique()"
   ]
  },
  {
   "cell_type": "markdown",
   "id": "6cde3773",
   "metadata": {
    "papermill": {
     "duration": 0.034768,
     "end_time": "2024-05-11T14:47:18.349967",
     "exception": false,
     "start_time": "2024-05-11T14:47:18.315199",
     "status": "completed"
    },
    "tags": []
   },
   "source": [
    "And also 75% of statistics are same for captial-gain and captial-loss"
   ]
  },
  {
   "cell_type": "code",
   "execution_count": 31,
   "id": "1ddbc16c",
   "metadata": {
    "execution": {
     "iopub.execute_input": "2024-05-11T14:47:18.421425Z",
     "iopub.status.busy": "2024-05-11T14:47:18.420862Z",
     "iopub.status.idle": "2024-05-11T14:47:18.429393Z",
     "shell.execute_reply": "2024-05-11T14:47:18.428009Z"
    },
    "papermill": {
     "duration": 0.048006,
     "end_time": "2024-05-11T14:47:18.432100",
     "exception": false,
     "start_time": "2024-05-11T14:47:18.384094",
     "status": "completed"
    },
    "tags": []
   },
   "outputs": [
    {
     "data": {
      "text/plain": [
       "Index(['age', 'workclass', 'fnlwgt', 'education', 'educational-num',\n",
       "       'marital-status', 'occupation', 'relationship', 'race', 'gender',\n",
       "       'capital-gain', 'capital-loss', 'hours-per-week', 'native-country',\n",
       "       'income'],\n",
       "      dtype='object')"
      ]
     },
     "execution_count": 31,
     "metadata": {},
     "output_type": "execute_result"
    }
   ],
   "source": [
    "data.columns"
   ]
  },
  {
   "cell_type": "code",
   "execution_count": 32,
   "id": "40c336d7",
   "metadata": {
    "execution": {
     "iopub.execute_input": "2024-05-11T14:47:18.503208Z",
     "iopub.status.busy": "2024-05-11T14:47:18.502527Z",
     "iopub.status.idle": "2024-05-11T14:47:18.516250Z",
     "shell.execute_reply": "2024-05-11T14:47:18.514974Z"
    },
    "papermill": {
     "duration": 0.054205,
     "end_time": "2024-05-11T14:47:18.519317",
     "exception": false,
     "start_time": "2024-05-11T14:47:18.465112",
     "status": "completed"
    },
    "tags": []
   },
   "outputs": [],
   "source": [
    "data=data.drop(['educational-num', 'capital-gain', 'capital-loss'], axis = 1)"
   ]
  },
  {
   "cell_type": "code",
   "execution_count": 33,
   "id": "0dca38e7",
   "metadata": {
    "execution": {
     "iopub.execute_input": "2024-05-11T14:47:18.589180Z",
     "iopub.status.busy": "2024-05-11T14:47:18.588744Z",
     "iopub.status.idle": "2024-05-11T14:47:18.597365Z",
     "shell.execute_reply": "2024-05-11T14:47:18.595760Z"
    },
    "papermill": {
     "duration": 0.046674,
     "end_time": "2024-05-11T14:47:18.599975",
     "exception": false,
     "start_time": "2024-05-11T14:47:18.553301",
     "status": "completed"
    },
    "tags": []
   },
   "outputs": [
    {
     "data": {
      "text/plain": [
       "Index(['age', 'workclass', 'fnlwgt', 'education', 'marital-status',\n",
       "       'occupation', 'relationship', 'race', 'gender', 'hours-per-week',\n",
       "       'native-country', 'income'],\n",
       "      dtype='object')"
      ]
     },
     "execution_count": 33,
     "metadata": {},
     "output_type": "execute_result"
    }
   ],
   "source": [
    "data.columns"
   ]
  },
  {
   "cell_type": "markdown",
   "id": "dbff0498",
   "metadata": {
    "papermill": {
     "duration": 0.034159,
     "end_time": "2024-05-11T14:47:18.667762",
     "exception": false,
     "start_time": "2024-05-11T14:47:18.633603",
     "status": "completed"
    },
    "tags": []
   },
   "source": [
    "1. Univariate Analysis is when we analyise one variable only\n",
    "2. It does not deal with any relationship\n",
    "3. Main purpose to describe the data and patient exist within it"
   ]
  },
  {
   "cell_type": "code",
   "execution_count": 34,
   "id": "36f16283",
   "metadata": {
    "execution": {
     "iopub.execute_input": "2024-05-11T14:47:18.745771Z",
     "iopub.status.busy": "2024-05-11T14:47:18.745382Z",
     "iopub.status.idle": "2024-05-11T14:47:18.760102Z",
     "shell.execute_reply": "2024-05-11T14:47:18.758730Z"
    },
    "papermill": {
     "duration": 0.05587,
     "end_time": "2024-05-11T14:47:18.762756",
     "exception": false,
     "start_time": "2024-05-11T14:47:18.706886",
     "status": "completed"
    },
    "tags": []
   },
   "outputs": [
    {
     "data": {
      "text/plain": [
       "count    45175.000000\n",
       "mean        38.556170\n",
       "std         13.215349\n",
       "min         17.000000\n",
       "25%         28.000000\n",
       "50%         37.000000\n",
       "75%         47.000000\n",
       "max         90.000000\n",
       "Name: age, dtype: float64"
      ]
     },
     "execution_count": 34,
     "metadata": {},
     "output_type": "execute_result"
    }
   ],
   "source": [
    "data['age'].describe()"
   ]
  },
  {
   "cell_type": "code",
   "execution_count": 35,
   "id": "b0e1f85f",
   "metadata": {
    "execution": {
     "iopub.execute_input": "2024-05-11T14:47:18.834762Z",
     "iopub.status.busy": "2024-05-11T14:47:18.834357Z",
     "iopub.status.idle": "2024-05-11T14:47:19.117053Z",
     "shell.execute_reply": "2024-05-11T14:47:19.115739Z"
    },
    "papermill": {
     "duration": 0.322139,
     "end_time": "2024-05-11T14:47:19.119564",
     "exception": false,
     "start_time": "2024-05-11T14:47:18.797425",
     "status": "completed"
    },
    "tags": []
   },
   "outputs": [
    {
     "data": {
      "text/plain": [
       "<Axes: >"
      ]
     },
     "execution_count": 35,
     "metadata": {},
     "output_type": "execute_result"
    },
    {
     "data": {
      "image/png": "[encoded data removed]",
      "text/plain": [
       "<Figure size 640x480 with 1 Axes>"
      ]
     },
     "metadata": {},
     "output_type": "display_data"
    }
   ],
   "source": [
    "data['age'].hist()"
   ]
  },
  {
   "cell_type": "markdown",
   "id": "16df79db",
   "metadata": {
    "papermill": {
     "duration": 0.034851,
     "end_time": "2024-05-11T14:47:19.187999",
     "exception": false,
     "start_time": "2024-05-11T14:47:19.153148",
     "status": "completed"
    },
    "tags": []
   },
   "source": [
    "find number of people between 17-48"
   ]
  },
  {
   "cell_type": "code",
   "execution_count": 36,
   "id": "4bd7ef18",
   "metadata": {
    "execution": {
     "iopub.execute_input": "2024-05-11T14:47:19.257911Z",
     "iopub.status.busy": "2024-05-11T14:47:19.257497Z",
     "iopub.status.idle": "2024-05-11T14:47:19.273728Z",
     "shell.execute_reply": "2024-05-11T14:47:19.272691Z"
    },
    "papermill": {
     "duration": 0.055864,
     "end_time": "2024-05-11T14:47:19.277398",
     "exception": false,
     "start_time": "2024-05-11T14:47:19.221534",
     "status": "completed"
    },
    "tags": []
   },
   "outputs": [
    {
     "data": {
      "text/plain": [
       "34858"
      ]
     },
     "execution_count": 36,
     "metadata": {},
     "output_type": "execute_result"
    }
   ],
   "source": [
    "sum((data['age']>= 17) & (data['age']<= 48))"
   ]
  },
  {
   "cell_type": "markdown",
   "id": "1ea1cf9c",
   "metadata": {
    "papermill": {
     "duration": 0.033784,
     "end_time": "2024-05-11T14:47:19.347097",
     "exception": false,
     "start_time": "2024-05-11T14:47:19.313313",
     "status": "completed"
    },
    "tags": []
   },
   "source": [
    "**OR**"
   ]
  },
  {
   "cell_type": "code",
   "execution_count": 37,
   "id": "3f26a689",
   "metadata": {
    "execution": {
     "iopub.execute_input": "2024-05-11T14:47:19.416232Z",
     "iopub.status.busy": "2024-05-11T14:47:19.415433Z",
     "iopub.status.idle": "2024-05-11T14:47:19.425518Z",
     "shell.execute_reply": "2024-05-11T14:47:19.424160Z"
    },
    "papermill": {
     "duration": 0.047403,
     "end_time": "2024-05-11T14:47:19.427940",
     "exception": false,
     "start_time": "2024-05-11T14:47:19.380537",
     "status": "completed"
    },
    "tags": []
   },
   "outputs": [
    {
     "data": {
      "text/plain": [
       "0         True\n",
       "1         True\n",
       "2         True\n",
       "3         True\n",
       "5         True\n",
       "         ...  \n",
       "48837     True\n",
       "48838     True\n",
       "48839    False\n",
       "48840     True\n",
       "48841    False\n",
       "Name: age, Length: 45175, dtype: bool"
      ]
     },
     "execution_count": 37,
     "metadata": {},
     "output_type": "execute_result"
    }
   ],
   "source": [
    "data['age'].between(17,48)"
   ]
  },
  {
   "cell_type": "markdown",
   "id": "dc87796d",
   "metadata": {
    "papermill": {
     "duration": 0.033771,
     "end_time": "2024-05-11T14:47:19.495217",
     "exception": false,
     "start_time": "2024-05-11T14:47:19.461446",
     "status": "completed"
    },
    "tags": []
   },
   "source": [
    "**OR**"
   ]
  },
  {
   "cell_type": "code",
   "execution_count": 38,
   "id": "1f6fd845",
   "metadata": {
    "execution": {
     "iopub.execute_input": "2024-05-11T14:47:19.564207Z",
     "iopub.status.busy": "2024-05-11T14:47:19.563492Z",
     "iopub.status.idle": "2024-05-11T14:47:19.847655Z",
     "shell.execute_reply": "2024-05-11T14:47:19.846314Z"
    },
    "papermill": {
     "duration": 0.321771,
     "end_time": "2024-05-11T14:47:19.850389",
     "exception": false,
     "start_time": "2024-05-11T14:47:19.528618",
     "status": "completed"
    },
    "tags": []
   },
   "outputs": [
    {
     "data": {
      "text/plain": [
       "<Axes: >"
      ]
     },
     "execution_count": 38,
     "metadata": {},
     "output_type": "execute_result"
    },
    {
     "data": {
      "image/png": "[encoded data removed]",
      "text/plain": [
       "<Figure size 1000x700 with 1 Axes>"
      ]
     },
     "metadata": {},
     "output_type": "display_data"
    }
   ],
   "source": [
    "plt.figure(figsize =(10, 7))\n",
    "data['workclass'].hist()"
   ]
  },
  {
   "cell_type": "code",
   "execution_count": 39,
   "id": "e1b9ea5a",
   "metadata": {
    "execution": {
     "iopub.execute_input": "2024-05-11T14:47:19.921690Z",
     "iopub.status.busy": "2024-05-11T14:47:19.921308Z",
     "iopub.status.idle": "2024-05-11T14:47:19.954907Z",
     "shell.execute_reply": "2024-05-11T14:47:19.953698Z"
    },
    "papermill": {
     "duration": 0.072651,
     "end_time": "2024-05-11T14:47:19.957213",
     "exception": false,
     "start_time": "2024-05-11T14:47:19.884562",
     "status": "completed"
    },
    "tags": []
   },
   "outputs": [
    {
     "data": {
      "text/plain": [
       "10072"
      ]
     },
     "execution_count": 39,
     "metadata": {},
     "output_type": "execute_result"
    }
   ],
   "source": [
    "sum((data['education']=='Bachelors') | (data['education']=='Masters') )"
   ]
  },
  {
   "cell_type": "markdown",
   "id": "adb3942b",
   "metadata": {
    "papermill": {
     "duration": 0.034476,
     "end_time": "2024-05-11T14:47:20.025491",
     "exception": false,
     "start_time": "2024-05-11T14:47:19.991015",
     "status": "completed"
    },
    "tags": []
   },
   "source": [
    "**OR**"
   ]
  },
  {
   "cell_type": "code",
   "execution_count": 40,
   "id": "60b65953",
   "metadata": {
    "execution": {
     "iopub.execute_input": "2024-05-11T14:47:20.097558Z",
     "iopub.status.busy": "2024-05-11T14:47:20.097170Z",
     "iopub.status.idle": "2024-05-11T14:47:20.126569Z",
     "shell.execute_reply": "2024-05-11T14:47:20.125290Z"
    },
    "papermill": {
     "duration": 0.068022,
     "end_time": "2024-05-11T14:47:20.129002",
     "exception": false,
     "start_time": "2024-05-11T14:47:20.060980",
     "status": "completed"
    },
    "tags": []
   },
   "outputs": [
    {
     "data": {
      "text/plain": [
       "10072"
      ]
     },
     "execution_count": 40,
     "metadata": {},
     "output_type": "execute_result"
    }
   ],
   "source": [
    "fil1= data['education']=='Bachelors'\n",
    "fil2 = data['education']=='Masters'\n",
    "\n",
    "len(data[fil1 | fil2])"
   ]
  },
  {
   "cell_type": "markdown",
   "id": "f40f09b3",
   "metadata": {
    "papermill": {
     "duration": 0.034294,
     "end_time": "2024-05-11T14:47:20.198995",
     "exception": false,
     "start_time": "2024-05-11T14:47:20.164701",
     "status": "completed"
    },
    "tags": []
   },
   "source": [
    "**OR**"
   ]
  },
  {
   "cell_type": "code",
   "execution_count": 41,
   "id": "ec7731c4",
   "metadata": {
    "execution": {
     "iopub.execute_input": "2024-05-11T14:47:20.269789Z",
     "iopub.status.busy": "2024-05-11T14:47:20.268786Z",
     "iopub.status.idle": "2024-05-11T14:47:20.285942Z",
     "shell.execute_reply": "2024-05-11T14:47:20.284597Z"
    },
    "papermill": {
     "duration": 0.055151,
     "end_time": "2024-05-11T14:47:20.288324",
     "exception": false,
     "start_time": "2024-05-11T14:47:20.233173",
     "status": "completed"
    },
    "tags": []
   },
   "outputs": [
    {
     "data": {
      "text/plain": [
       "10072"
      ]
     },
     "execution_count": 41,
     "metadata": {},
     "output_type": "execute_result"
    }
   ],
   "source": [
    "sum(data['education'].isin(['Bachelors', 'Masters']))"
   ]
  },
  {
   "cell_type": "markdown",
   "id": "3707c1e0",
   "metadata": {
    "papermill": {
     "duration": 0.034104,
     "end_time": "2024-05-11T14:47:20.357474",
     "exception": false,
     "start_time": "2024-05-11T14:47:20.323370",
     "status": "completed"
    },
    "tags": []
   },
   "source": [
    "Bi-variate Analysis\n",
    "1. use to find relation between two variables\n",
    "2. Like scatter-plot or box-plot"
   ]
  },
  {
   "cell_type": "code",
   "execution_count": 42,
   "id": "cdade37a",
   "metadata": {
    "execution": {
     "iopub.execute_input": "2024-05-11T14:47:20.428161Z",
     "iopub.status.busy": "2024-05-11T14:47:20.427640Z",
     "iopub.status.idle": "2024-05-11T14:47:20.435328Z",
     "shell.execute_reply": "2024-05-11T14:47:20.433830Z"
    },
    "papermill": {
     "duration": 0.046129,
     "end_time": "2024-05-11T14:47:20.437739",
     "exception": false,
     "start_time": "2024-05-11T14:47:20.391610",
     "status": "completed"
    },
    "tags": []
   },
   "outputs": [
    {
     "data": {
      "text/plain": [
       "Index(['age', 'workclass', 'fnlwgt', 'education', 'marital-status',\n",
       "       'occupation', 'relationship', 'race', 'gender', 'hours-per-week',\n",
       "       'native-country', 'income'],\n",
       "      dtype='object')"
      ]
     },
     "execution_count": 42,
     "metadata": {},
     "output_type": "execute_result"
    }
   ],
   "source": [
    "data.columns"
   ]
  },
  {
   "cell_type": "code",
   "execution_count": 43,
   "id": "163c9ac0",
   "metadata": {
    "execution": {
     "iopub.execute_input": "2024-05-11T14:47:20.509184Z",
     "iopub.status.busy": "2024-05-11T14:47:20.508631Z",
     "iopub.status.idle": "2024-05-11T14:47:20.754357Z",
     "shell.execute_reply": "2024-05-11T14:47:20.753123Z"
    },
    "papermill": {
     "duration": 0.284838,
     "end_time": "2024-05-11T14:47:20.757005",
     "exception": false,
     "start_time": "2024-05-11T14:47:20.472167",
     "status": "completed"
    },
    "tags": []
   },
   "outputs": [
    {
     "data": {
      "text/plain": [
       "<Axes: xlabel='income', ylabel='age'>"
      ]
     },
     "execution_count": 43,
     "metadata": {},
     "output_type": "execute_result"
    },
    {
     "data": {
      "image/png": "[encoded data removed]",
      "text/plain": [
       "<Figure size 640x480 with 1 Axes>"
      ]
     },
     "metadata": {},
     "output_type": "display_data"
    }
   ],
   "source": [
    "sns.boxplot(x='income', y='age', data=data)"
   ]
  },
  {
   "cell_type": "code",
   "execution_count": 44,
   "id": "2af3abcc",
   "metadata": {
    "execution": {
     "iopub.execute_input": "2024-05-11T14:47:20.830033Z",
     "iopub.status.busy": "2024-05-11T14:47:20.829616Z",
     "iopub.status.idle": "2024-05-11T14:47:21.073290Z",
     "shell.execute_reply": "2024-05-11T14:47:21.072020Z"
    },
    "papermill": {
     "duration": 0.283877,
     "end_time": "2024-05-11T14:47:21.076275",
     "exception": false,
     "start_time": "2024-05-11T14:47:20.792398",
     "status": "completed"
    },
    "tags": []
   },
   "outputs": [
    {
     "data": {
      "text/plain": [
       "<Axes: xlabel='gender', ylabel='age'>"
      ]
     },
     "execution_count": 44,
     "metadata": {},
     "output_type": "execute_result"
    },
    {
     "data": {
      "image/png": "[encoded data removed]",
      "text/plain": [
       "<Figure size 640x480 with 1 Axes>"
      ]
     },
     "metadata": {},
     "output_type": "display_data"
    }
   ],
   "source": [
    "sns.boxplot(x='gender', y='age', data=data)"
   ]
  },
  {
   "cell_type": "markdown",
   "id": "8c951aa2",
   "metadata": {
    "papermill": {
     "duration": 0.036023,
     "end_time": "2024-05-11T14:47:21.148162",
     "exception": false,
     "start_time": "2024-05-11T14:47:21.112139",
     "status": "completed"
    },
    "tags": []
   },
   "source": [
    "**Replace**"
   ]
  },
  {
   "cell_type": "code",
   "execution_count": 45,
   "id": "daa0deb5",
   "metadata": {
    "execution": {
     "iopub.execute_input": "2024-05-11T14:47:21.223038Z",
     "iopub.status.busy": "2024-05-11T14:47:21.222115Z",
     "iopub.status.idle": "2024-05-11T14:47:21.229839Z",
     "shell.execute_reply": "2024-05-11T14:47:21.228629Z"
    },
    "papermill": {
     "duration": 0.046881,
     "end_time": "2024-05-11T14:47:21.232307",
     "exception": false,
     "start_time": "2024-05-11T14:47:21.185426",
     "status": "completed"
    },
    "tags": []
   },
   "outputs": [
    {
     "data": {
      "text/plain": [
       "Index(['age', 'workclass', 'fnlwgt', 'education', 'marital-status',\n",
       "       'occupation', 'relationship', 'race', 'gender', 'hours-per-week',\n",
       "       'native-country', 'income'],\n",
       "      dtype='object')"
      ]
     },
     "execution_count": 45,
     "metadata": {},
     "output_type": "execute_result"
    }
   ],
   "source": [
    "data.columns"
   ]
  },
  {
   "cell_type": "code",
   "execution_count": 46,
   "id": "323c9922",
   "metadata": {
    "execution": {
     "iopub.execute_input": "2024-05-11T14:47:21.306254Z",
     "iopub.status.busy": "2024-05-11T14:47:21.305431Z",
     "iopub.status.idle": "2024-05-11T14:47:21.316128Z",
     "shell.execute_reply": "2024-05-11T14:47:21.315134Z"
    },
    "papermill": {
     "duration": 0.050527,
     "end_time": "2024-05-11T14:47:21.318468",
     "exception": false,
     "start_time": "2024-05-11T14:47:21.267941",
     "status": "completed"
    },
    "tags": []
   },
   "outputs": [
    {
     "data": {
      "text/plain": [
       "array(['<=50K', '>50K'], dtype=object)"
      ]
     },
     "execution_count": 46,
     "metadata": {},
     "output_type": "execute_result"
    }
   ],
   "source": [
    "data['income'].unique()"
   ]
  },
  {
   "cell_type": "code",
   "execution_count": 47,
   "id": "37c1551c",
   "metadata": {
    "execution": {
     "iopub.execute_input": "2024-05-11T14:47:21.392471Z",
     "iopub.status.busy": "2024-05-11T14:47:21.391407Z",
     "iopub.status.idle": "2024-05-11T14:47:21.406487Z",
     "shell.execute_reply": "2024-05-11T14:47:21.405220Z"
    },
    "papermill": {
     "duration": 0.054835,
     "end_time": "2024-05-11T14:47:21.409124",
     "exception": false,
     "start_time": "2024-05-11T14:47:21.354289",
     "status": "completed"
    },
    "tags": []
   },
   "outputs": [
    {
     "data": {
      "text/plain": [
       "income\n",
       "<=50K    33973\n",
       ">50K     11202\n",
       "Name: count, dtype: int64"
      ]
     },
     "execution_count": 47,
     "metadata": {},
     "output_type": "execute_result"
    }
   ],
   "source": [
    "data['income'].value_counts()"
   ]
  },
  {
   "cell_type": "code",
   "execution_count": 48,
   "id": "f4fe5885",
   "metadata": {
    "execution": {
     "iopub.execute_input": "2024-05-11T14:47:21.483667Z",
     "iopub.status.busy": "2024-05-11T14:47:21.483257Z",
     "iopub.status.idle": "2024-05-11T14:47:21.715046Z",
     "shell.execute_reply": "2024-05-11T14:47:21.713683Z"
    },
    "papermill": {
     "duration": 0.273071,
     "end_time": "2024-05-11T14:47:21.718436",
     "exception": false,
     "start_time": "2024-05-11T14:47:21.445365",
     "status": "completed"
    },
    "tags": []
   },
   "outputs": [
    {
     "data": {
      "text/plain": [
       "<Axes: xlabel='income', ylabel='count'>"
      ]
     },
     "execution_count": 48,
     "metadata": {},
     "output_type": "execute_result"
    },
    {
     "data": {
      "image/png": "[encoded data removed]",
      "text/plain": [
       "<Figure size 640x480 with 1 Axes>"
      ]
     },
     "metadata": {},
     "output_type": "display_data"
    }
   ],
   "source": [
    "sns.countplot(x='income', data=data)"
   ]
  },
  {
   "cell_type": "code",
   "execution_count": 49,
   "id": "04f9412b",
   "metadata": {
    "execution": {
     "iopub.execute_input": "2024-05-11T14:47:21.795323Z",
     "iopub.status.busy": "2024-05-11T14:47:21.794896Z",
     "iopub.status.idle": "2024-05-11T14:47:21.800596Z",
     "shell.execute_reply": "2024-05-11T14:47:21.799373Z"
    },
    "papermill": {
     "duration": 0.047131,
     "end_time": "2024-05-11T14:47:21.803206",
     "exception": false,
     "start_time": "2024-05-11T14:47:21.756075",
     "status": "completed"
    },
    "tags": []
   },
   "outputs": [],
   "source": [
    "def salary_check(sal):\n",
    "    if sal=='<=50K':\n",
    "        return 0\n",
    "    else:\n",
    "        return 1"
   ]
  },
  {
   "cell_type": "code",
   "execution_count": 50,
   "id": "6abd49fe",
   "metadata": {
    "execution": {
     "iopub.execute_input": "2024-05-11T14:47:21.878416Z",
     "iopub.status.busy": "2024-05-11T14:47:21.877980Z",
     "iopub.status.idle": "2024-05-11T14:47:21.920704Z",
     "shell.execute_reply": "2024-05-11T14:47:21.919825Z"
    },
    "papermill": {
     "duration": 0.08372,
     "end_time": "2024-05-11T14:47:21.923463",
     "exception": false,
     "start_time": "2024-05-11T14:47:21.839743",
     "status": "completed"
    },
    "tags": []
   },
   "outputs": [],
   "source": [
    "data['encoded_salary']= data['income'].apply(salary_check)"
   ]
  },
  {
   "cell_type": "code",
   "execution_count": 51,
   "id": "c334599d",
   "metadata": {
    "execution": {
     "iopub.execute_input": "2024-05-11T14:47:21.998917Z",
     "iopub.status.busy": "2024-05-11T14:47:21.998485Z",
     "iopub.status.idle": "2024-05-11T14:47:22.017633Z",
     "shell.execute_reply": "2024-05-11T14:47:22.016333Z"
    },
    "papermill": {
     "duration": 0.059757,
     "end_time": "2024-05-11T14:47:22.020247",
     "exception": false,
     "start_time": "2024-05-11T14:47:21.960490",
     "status": "completed"
    },
    "tags": []
   },
   "outputs": [
    {
     "data": {
      "text/html": [
       "<div>\n",
       "<style scoped>\n",
       "    .dataframe tbody tr th:only-of-type {\n",
       "        vertical-align: middle;\n",
       "    }\n",
       "\n",
       "    .dataframe tbody tr th {\n",
       "        vertical-align: top;\n",
       "    }\n",
       "\n",
       "    .dataframe thead th {\n",
       "        text-align: right;\n",
       "    }\n",
       "</style>\n",
       "<table border=\"1\" class=\"dataframe\">\n",
       "  <thead>\n",
       "    <tr style=\"text-align: right;\">\n",
       "      <th></th>\n",
       "      <th>age</th>\n",
       "      <th>workclass</th>\n",
       "      <th>fnlwgt</th>\n",
       "      <th>education</th>\n",
       "      <th>marital-status</th>\n",
       "      <th>occupation</th>\n",
       "      <th>relationship</th>\n",
       "      <th>race</th>\n",
       "      <th>gender</th>\n",
       "      <th>hours-per-week</th>\n",
       "      <th>native-country</th>\n",
       "      <th>income</th>\n",
       "      <th>encoded_salary</th>\n",
       "    </tr>\n",
       "  </thead>\n",
       "  <tbody>\n",
       "    <tr>\n",
       "      <th>0</th>\n",
       "      <td>25</td>\n",
       "      <td>Private</td>\n",
       "      <td>226802</td>\n",
       "      <td>11th</td>\n",
       "      <td>Never-married</td>\n",
       "      <td>Machine-op-inspct</td>\n",
       "      <td>Own-child</td>\n",
       "      <td>Black</td>\n",
       "      <td>Male</td>\n",
       "      <td>40</td>\n",
       "      <td>United-States</td>\n",
       "      <td>&lt;=50K</td>\n",
       "      <td>0</td>\n",
       "    </tr>\n",
       "    <tr>\n",
       "      <th>1</th>\n",
       "      <td>38</td>\n",
       "      <td>Private</td>\n",
       "      <td>89814</td>\n",
       "      <td>HS-grad</td>\n",
       "      <td>Married-civ-spouse</td>\n",
       "      <td>Farming-fishing</td>\n",
       "      <td>Husband</td>\n",
       "      <td>White</td>\n",
       "      <td>Male</td>\n",
       "      <td>50</td>\n",
       "      <td>United-States</td>\n",
       "      <td>&lt;=50K</td>\n",
       "      <td>0</td>\n",
       "    </tr>\n",
       "    <tr>\n",
       "      <th>2</th>\n",
       "      <td>28</td>\n",
       "      <td>Local-gov</td>\n",
       "      <td>336951</td>\n",
       "      <td>Assoc-acdm</td>\n",
       "      <td>Married-civ-spouse</td>\n",
       "      <td>Protective-serv</td>\n",
       "      <td>Husband</td>\n",
       "      <td>White</td>\n",
       "      <td>Male</td>\n",
       "      <td>40</td>\n",
       "      <td>United-States</td>\n",
       "      <td>&gt;50K</td>\n",
       "      <td>1</td>\n",
       "    </tr>\n",
       "    <tr>\n",
       "      <th>3</th>\n",
       "      <td>44</td>\n",
       "      <td>Private</td>\n",
       "      <td>160323</td>\n",
       "      <td>Some-college</td>\n",
       "      <td>Married-civ-spouse</td>\n",
       "      <td>Machine-op-inspct</td>\n",
       "      <td>Husband</td>\n",
       "      <td>Black</td>\n",
       "      <td>Male</td>\n",
       "      <td>40</td>\n",
       "      <td>United-States</td>\n",
       "      <td>&gt;50K</td>\n",
       "      <td>1</td>\n",
       "    </tr>\n",
       "    <tr>\n",
       "      <th>5</th>\n",
       "      <td>34</td>\n",
       "      <td>Private</td>\n",
       "      <td>198693</td>\n",
       "      <td>10th</td>\n",
       "      <td>Never-married</td>\n",
       "      <td>Other-service</td>\n",
       "      <td>Not-in-family</td>\n",
       "      <td>White</td>\n",
       "      <td>Male</td>\n",
       "      <td>30</td>\n",
       "      <td>United-States</td>\n",
       "      <td>&lt;=50K</td>\n",
       "      <td>0</td>\n",
       "    </tr>\n",
       "  </tbody>\n",
       "</table>\n",
       "</div>"
      ],
      "text/plain": [
       "   age  workclass  fnlwgt     education      marital-status  \\\n",
       "0   25    Private  226802          11th       Never-married   \n",
       "1   38    Private   89814       HS-grad  Married-civ-spouse   \n",
       "2   28  Local-gov  336951    Assoc-acdm  Married-civ-spouse   \n",
       "3   44    Private  160323  Some-college  Married-civ-spouse   \n",
       "5   34    Private  198693          10th       Never-married   \n",
       "\n",
       "          occupation   relationship   race gender  hours-per-week  \\\n",
       "0  Machine-op-inspct      Own-child  Black   Male              40   \n",
       "1    Farming-fishing        Husband  White   Male              50   \n",
       "2    Protective-serv        Husband  White   Male              40   \n",
       "3  Machine-op-inspct        Husband  Black   Male              40   \n",
       "5      Other-service  Not-in-family  White   Male              30   \n",
       "\n",
       "  native-country income  encoded_salary  \n",
       "0  United-States  <=50K               0  \n",
       "1  United-States  <=50K               0  \n",
       "2  United-States   >50K               1  \n",
       "3  United-States   >50K               1  \n",
       "5  United-States  <=50K               0  "
      ]
     },
     "execution_count": 51,
     "metadata": {},
     "output_type": "execute_result"
    }
   ],
   "source": [
    "data.head()"
   ]
  },
  {
   "cell_type": "markdown",
   "id": "b0be7d6c",
   "metadata": {
    "papermill": {
     "duration": 0.040217,
     "end_time": "2024-05-11T14:47:22.098052",
     "exception": false,
     "start_time": "2024-05-11T14:47:22.057835",
     "status": "completed"
    },
    "tags": []
   },
   "source": [
    "**OR**"
   ]
  },
  {
   "cell_type": "code",
   "execution_count": 52,
   "id": "4e20cb20",
   "metadata": {
    "execution": {
     "iopub.execute_input": "2024-05-11T14:47:22.175510Z",
     "iopub.status.busy": "2024-05-11T14:47:22.175067Z",
     "iopub.status.idle": "2024-05-11T14:47:22.295081Z",
     "shell.execute_reply": "2024-05-11T14:47:22.293584Z"
    },
    "papermill": {
     "duration": 0.163348,
     "end_time": "2024-05-11T14:47:22.298586",
     "exception": false,
     "start_time": "2024-05-11T14:47:22.135238",
     "status": "completed"
    },
    "tags": []
   },
   "outputs": [],
   "source": [
    "data.replace(to_replace=['<=50K', '>=50K'], value = [0,1], inplace=True)"
   ]
  },
  {
   "cell_type": "code",
   "execution_count": 53,
   "id": "2847c4ff",
   "metadata": {
    "execution": {
     "iopub.execute_input": "2024-05-11T14:47:22.374266Z",
     "iopub.status.busy": "2024-05-11T14:47:22.373441Z",
     "iopub.status.idle": "2024-05-11T14:47:22.390593Z",
     "shell.execute_reply": "2024-05-11T14:47:22.389220Z"
    },
    "papermill": {
     "duration": 0.057587,
     "end_time": "2024-05-11T14:47:22.393018",
     "exception": false,
     "start_time": "2024-05-11T14:47:22.335431",
     "status": "completed"
    },
    "tags": []
   },
   "outputs": [
    {
     "data": {
      "text/html": [
       "<div>\n",
       "<style scoped>\n",
       "    .dataframe tbody tr th:only-of-type {\n",
       "        vertical-align: middle;\n",
       "    }\n",
       "\n",
       "    .dataframe tbody tr th {\n",
       "        vertical-align: top;\n",
       "    }\n",
       "\n",
       "    .dataframe thead th {\n",
       "        text-align: right;\n",
       "    }\n",
       "</style>\n",
       "<table border=\"1\" class=\"dataframe\">\n",
       "  <thead>\n",
       "    <tr style=\"text-align: right;\">\n",
       "      <th></th>\n",
       "      <th>age</th>\n",
       "      <th>workclass</th>\n",
       "      <th>fnlwgt</th>\n",
       "      <th>education</th>\n",
       "      <th>marital-status</th>\n",
       "      <th>occupation</th>\n",
       "      <th>relationship</th>\n",
       "      <th>race</th>\n",
       "      <th>gender</th>\n",
       "      <th>hours-per-week</th>\n",
       "      <th>native-country</th>\n",
       "      <th>income</th>\n",
       "      <th>encoded_salary</th>\n",
       "    </tr>\n",
       "  </thead>\n",
       "  <tbody>\n",
       "    <tr>\n",
       "      <th>0</th>\n",
       "      <td>25</td>\n",
       "      <td>Private</td>\n",
       "      <td>226802</td>\n",
       "      <td>11th</td>\n",
       "      <td>Never-married</td>\n",
       "      <td>Machine-op-inspct</td>\n",
       "      <td>Own-child</td>\n",
       "      <td>Black</td>\n",
       "      <td>Male</td>\n",
       "      <td>40</td>\n",
       "      <td>United-States</td>\n",
       "      <td>0</td>\n",
       "      <td>0</td>\n",
       "    </tr>\n",
       "  </tbody>\n",
       "</table>\n",
       "</div>"
      ],
      "text/plain": [
       "   age workclass  fnlwgt education marital-status         occupation  \\\n",
       "0   25   Private  226802      11th  Never-married  Machine-op-inspct   \n",
       "\n",
       "  relationship   race gender  hours-per-week native-country income  \\\n",
       "0    Own-child  Black   Male              40  United-States      0   \n",
       "\n",
       "   encoded_salary  \n",
       "0               0  "
      ]
     },
     "execution_count": 53,
     "metadata": {},
     "output_type": "execute_result"
    }
   ],
   "source": [
    "data.head(1)"
   ]
  },
  {
   "cell_type": "markdown",
   "id": "522badc1",
   "metadata": {
    "papermill": {
     "duration": 0.036489,
     "end_time": "2024-05-11T14:47:22.466331",
     "exception": false,
     "start_time": "2024-05-11T14:47:22.429842",
     "status": "completed"
    },
    "tags": []
   },
   "source": [
    "**Find the highest from variable**"
   ]
  },
  {
   "cell_type": "code",
   "execution_count": 54,
   "id": "1cde3191",
   "metadata": {
    "execution": {
     "iopub.execute_input": "2024-05-11T14:47:22.542027Z",
     "iopub.status.busy": "2024-05-11T14:47:22.541619Z",
     "iopub.status.idle": "2024-05-11T14:47:22.558590Z",
     "shell.execute_reply": "2024-05-11T14:47:22.557398Z"
    },
    "papermill": {
     "duration": 0.057873,
     "end_time": "2024-05-11T14:47:22.561180",
     "exception": false,
     "start_time": "2024-05-11T14:47:22.503307",
     "status": "completed"
    },
    "tags": []
   },
   "outputs": [
    {
     "data": {
      "text/plain": [
       "workclass\n",
       "Federal-gov         0.390469\n",
       "Local-gov           0.295161\n",
       "Private             0.217816\n",
       "Self-emp-inc        0.554407\n",
       "Self-emp-not-inc    0.279051\n",
       "State-gov           0.267215\n",
       "Without-pay         0.095238\n",
       "Name: encoded_salary, dtype: float64"
      ]
     },
     "execution_count": 54,
     "metadata": {},
     "output_type": "execute_result"
    }
   ],
   "source": [
    "data.groupby('workclass')['encoded_salary'].mean()"
   ]
  },
  {
   "cell_type": "code",
   "execution_count": 55,
   "id": "263945bb",
   "metadata": {
    "execution": {
     "iopub.execute_input": "2024-05-11T14:47:22.639479Z",
     "iopub.status.busy": "2024-05-11T14:47:22.638516Z",
     "iopub.status.idle": "2024-05-11T14:47:22.655199Z",
     "shell.execute_reply": "2024-05-11T14:47:22.653693Z"
    },
    "papermill": {
     "duration": 0.058545,
     "end_time": "2024-05-11T14:47:22.657849",
     "exception": false,
     "start_time": "2024-05-11T14:47:22.599304",
     "status": "completed"
    },
    "tags": []
   },
   "outputs": [
    {
     "data": {
      "text/plain": [
       "workclass\n",
       "Self-emp-inc        0.554407\n",
       "Federal-gov         0.390469\n",
       "Local-gov           0.295161\n",
       "Self-emp-not-inc    0.279051\n",
       "State-gov           0.267215\n",
       "Private             0.217816\n",
       "Without-pay         0.095238\n",
       "Name: encoded_salary, dtype: float64"
      ]
     },
     "execution_count": 55,
     "metadata": {},
     "output_type": "execute_result"
    }
   ],
   "source": [
    "data.groupby('workclass')['encoded_salary'].mean().sort_values(ascending = False)"
   ]
  },
  {
   "cell_type": "code",
   "execution_count": 56,
   "id": "f91fc515",
   "metadata": {
    "execution": {
     "iopub.execute_input": "2024-05-11T14:47:22.741111Z",
     "iopub.status.busy": "2024-05-11T14:47:22.740382Z",
     "iopub.status.idle": "2024-05-11T14:47:22.754711Z",
     "shell.execute_reply": "2024-05-11T14:47:22.753390Z"
    },
    "papermill": {
     "duration": 0.056389,
     "end_time": "2024-05-11T14:47:22.757477",
     "exception": false,
     "start_time": "2024-05-11T14:47:22.701088",
     "status": "completed"
    },
    "tags": []
   },
   "outputs": [
    {
     "data": {
      "text/plain": [
       "gender\n",
       "Male      0.312609\n",
       "Female    0.113692\n",
       "Name: encoded_salary, dtype: float64"
      ]
     },
     "execution_count": 56,
     "metadata": {},
     "output_type": "execute_result"
    }
   ],
   "source": [
    "data.groupby('gender')['encoded_salary'].mean().sort_values(ascending= False)"
   ]
  },
  {
   "cell_type": "markdown",
   "id": "79041afc",
   "metadata": {
    "papermill": {
     "duration": 0.037415,
     "end_time": "2024-05-11T14:47:22.832432",
     "exception": false,
     "start_time": "2024-05-11T14:47:22.795017",
     "status": "completed"
    },
    "tags": []
   },
   "source": [
    "**Change Datatype**"
   ]
  },
  {
   "cell_type": "code",
   "execution_count": 57,
   "id": "5b54c60b",
   "metadata": {
    "execution": {
     "iopub.execute_input": "2024-05-11T14:47:22.910189Z",
     "iopub.status.busy": "2024-05-11T14:47:22.909746Z",
     "iopub.status.idle": "2024-05-11T14:47:22.928332Z",
     "shell.execute_reply": "2024-05-11T14:47:22.927044Z"
    },
    "papermill": {
     "duration": 0.060263,
     "end_time": "2024-05-11T14:47:22.930850",
     "exception": false,
     "start_time": "2024-05-11T14:47:22.870587",
     "status": "completed"
    },
    "tags": []
   },
   "outputs": [
    {
     "data": {
      "text/plain": [
       "0             Private\n",
       "1             Private\n",
       "2           Local-gov\n",
       "3             Private\n",
       "5             Private\n",
       "             ...     \n",
       "48837         Private\n",
       "48838         Private\n",
       "48839         Private\n",
       "48840         Private\n",
       "48841    Self-emp-inc\n",
       "Name: workclass, Length: 45175, dtype: category\n",
       "Categories (7, object): ['Federal-gov', 'Local-gov', 'Private', 'Self-emp-inc', 'Self-emp-not-inc', 'State-gov', 'Without-pay']"
      ]
     },
     "execution_count": 57,
     "metadata": {},
     "output_type": "execute_result"
    }
   ],
   "source": [
    "data['workclass'].astype('category')"
   ]
  },
  {
   "cell_type": "code",
   "execution_count": 58,
   "id": "383ea6da",
   "metadata": {
    "execution": {
     "iopub.execute_input": "2024-05-11T14:47:23.008693Z",
     "iopub.status.busy": "2024-05-11T14:47:23.007819Z",
     "iopub.status.idle": "2024-05-11T14:47:23.019140Z",
     "shell.execute_reply": "2024-05-11T14:47:23.018066Z"
    },
    "papermill": {
     "duration": 0.053479,
     "end_time": "2024-05-11T14:47:23.021863",
     "exception": false,
     "start_time": "2024-05-11T14:47:22.968384",
     "status": "completed"
    },
    "tags": []
   },
   "outputs": [],
   "source": [
    "data['workclass']=data['workclass'].astype('category')"
   ]
  },
  {
   "cell_type": "code",
   "execution_count": 59,
   "id": "87f56f95",
   "metadata": {
    "execution": {
     "iopub.execute_input": "2024-05-11T14:47:23.101213Z",
     "iopub.status.busy": "2024-05-11T14:47:23.100339Z",
     "iopub.status.idle": "2024-05-11T14:47:23.151457Z",
     "shell.execute_reply": "2024-05-11T14:47:23.150210Z"
    },
    "papermill": {
     "duration": 0.094597,
     "end_time": "2024-05-11T14:47:23.154240",
     "exception": false,
     "start_time": "2024-05-11T14:47:23.059643",
     "status": "completed"
    },
    "tags": []
   },
   "outputs": [
    {
     "name": "stdout",
     "output_type": "stream",
     "text": [
      "<class 'pandas.core.frame.DataFrame'>\n",
      "Index: 45175 entries, 0 to 48841\n",
      "Data columns (total 13 columns):\n",
      " #   Column          Non-Null Count  Dtype   \n",
      "---  ------          --------------  -----   \n",
      " 0   age             45175 non-null  int64   \n",
      " 1   workclass       45175 non-null  category\n",
      " 2   fnlwgt          45175 non-null  int64   \n",
      " 3   education       45175 non-null  object  \n",
      " 4   marital-status  45175 non-null  object  \n",
      " 5   occupation      45175 non-null  object  \n",
      " 6   relationship    45175 non-null  object  \n",
      " 7   race            45175 non-null  object  \n",
      " 8   gender          45175 non-null  object  \n",
      " 9   hours-per-week  45175 non-null  int64   \n",
      " 10  native-country  45175 non-null  object  \n",
      " 11  income          45175 non-null  object  \n",
      " 12  encoded_salary  45175 non-null  int64   \n",
      "dtypes: category(1), int64(4), object(8)\n",
      "memory usage: 4.5+ MB\n"
     ]
    }
   ],
   "source": [
    "data.info()"
   ]
  },
  {
   "cell_type": "markdown",
   "id": "b33d3b20",
   "metadata": {
    "papermill": {
     "duration": 0.038124,
     "end_time": "2024-05-11T14:47:23.232848",
     "exception": false,
     "start_time": "2024-05-11T14:47:23.194724",
     "status": "completed"
    },
    "tags": []
   },
   "source": [
    "This will optimize the memory by changing the datatypes of the columns"
   ]
  }
 ],
 "metadata": {
  "kaggle": {
   "accelerator": "none",
   "dataSources": [
    {
     "datasetId": 222,
     "sourceId": 472,
     "sourceType": "datasetVersion"
    }
   ],
   "dockerImageVersionId": 30698,
   "isGpuEnabled": false,
   "isInternetEnabled": true,
   "language": "python",
   "sourceType": "notebook"
  },
  "kernelspec": {
   "display_name": "Python 3",
   "language": "python",
   "name": "python3"
  },
  "language_info": {
   "codemirror_mode": {
    "name": "ipython",
    "version": 3
   },
   "file_extension": ".py",
   "mimetype": "text/x-python",
   "name": "python",
   "nbconvert_exporter": "python",
   "pygments_lexer": "ipython3",
   "version": "3.10.13"
  },
  "papermill": {
   "default_parameters": {},
   "duration": 20.305595,
   "end_time": "2024-05-11T14:47:23.993167",
   "environment_variables": {},
   "exception": null,
   "input_path": "__notebook__.ipynb",
   "output_path": "__notebook__.ipynb",
   "parameters": {},
   "start_time": "2024-05-11T14:47:03.687572",
   "version": "2.5.0"
  }
 },
 "nbformat": 4,
 "nbformat_minor": 5
}
